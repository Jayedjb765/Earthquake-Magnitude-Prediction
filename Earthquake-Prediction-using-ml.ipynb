{
 "cells": [
  {
   "cell_type": "markdown",
   "id": "ddba9b0c",
   "metadata": {},
   "source": [
    "# Dataset Pre-processing"
   ]
  },
  {
   "cell_type": "code",
   "execution_count": 2,
   "id": "1ea33d5a",
   "metadata": {},
   "outputs": [],
   "source": [
    "import pandas as pd"
   ]
  },
  {
   "cell_type": "code",
   "execution_count": 3,
   "id": "3f484281",
   "metadata": {},
   "outputs": [],
   "source": [
    "df = pd.read_csv('query2.csv')"
   ]
  },
  {
   "cell_type": "code",
   "execution_count": 4,
   "id": "97ceae93",
   "metadata": {},
   "outputs": [
    {
     "data": {
      "text/html": [
       "<div>\n",
       "<style scoped>\n",
       "    .dataframe tbody tr th:only-of-type {\n",
       "        vertical-align: middle;\n",
       "    }\n",
       "\n",
       "    .dataframe tbody tr th {\n",
       "        vertical-align: top;\n",
       "    }\n",
       "\n",
       "    .dataframe thead th {\n",
       "        text-align: right;\n",
       "    }\n",
       "</style>\n",
       "<table border=\"1\" class=\"dataframe\">\n",
       "  <thead>\n",
       "    <tr style=\"text-align: right;\">\n",
       "      <th></th>\n",
       "      <th>time</th>\n",
       "      <th>latitude</th>\n",
       "      <th>longitude</th>\n",
       "      <th>depth</th>\n",
       "      <th>mag</th>\n",
       "      <th>magType</th>\n",
       "      <th>nst</th>\n",
       "      <th>gap</th>\n",
       "      <th>dmin</th>\n",
       "      <th>rms</th>\n",
       "      <th>...</th>\n",
       "      <th>updated</th>\n",
       "      <th>place</th>\n",
       "      <th>type</th>\n",
       "      <th>horizontalError</th>\n",
       "      <th>depthError</th>\n",
       "      <th>magError</th>\n",
       "      <th>magNst</th>\n",
       "      <th>status</th>\n",
       "      <th>locationSource</th>\n",
       "      <th>magSource</th>\n",
       "    </tr>\n",
       "  </thead>\n",
       "  <tbody>\n",
       "    <tr>\n",
       "      <th>0</th>\n",
       "      <td>2013-03-16T17:24:55.350Z</td>\n",
       "      <td>36.1230</td>\n",
       "      <td>141.5940</td>\n",
       "      <td>41.800</td>\n",
       "      <td>4.9</td>\n",
       "      <td>mb</td>\n",
       "      <td>281.0</td>\n",
       "      <td>64.9</td>\n",
       "      <td>NaN</td>\n",
       "      <td>0.88</td>\n",
       "      <td>...</td>\n",
       "      <td>2014-11-07T01:50:21.073Z</td>\n",
       "      <td>81 km ENE of Hasaki, Japan</td>\n",
       "      <td>earthquake</td>\n",
       "      <td>NaN</td>\n",
       "      <td>4.800</td>\n",
       "      <td>NaN</td>\n",
       "      <td>224.0</td>\n",
       "      <td>reviewed</td>\n",
       "      <td>us</td>\n",
       "      <td>us</td>\n",
       "    </tr>\n",
       "    <tr>\n",
       "      <th>1</th>\n",
       "      <td>2013-03-17T21:53:39.150Z</td>\n",
       "      <td>36.4350</td>\n",
       "      <td>140.5920</td>\n",
       "      <td>58.600</td>\n",
       "      <td>4.6</td>\n",
       "      <td>mb</td>\n",
       "      <td>101.0</td>\n",
       "      <td>111.9</td>\n",
       "      <td>NaN</td>\n",
       "      <td>0.95</td>\n",
       "      <td>...</td>\n",
       "      <td>2022-07-24T21:03:00.695Z</td>\n",
       "      <td>4 km SSE of Funaishikawa, Japan</td>\n",
       "      <td>earthquake</td>\n",
       "      <td>NaN</td>\n",
       "      <td>5.000</td>\n",
       "      <td>NaN</td>\n",
       "      <td>59.0</td>\n",
       "      <td>reviewed</td>\n",
       "      <td>us</td>\n",
       "      <td>us</td>\n",
       "    </tr>\n",
       "    <tr>\n",
       "      <th>2</th>\n",
       "      <td>2013-03-21T05:34:33.950Z</td>\n",
       "      <td>36.7240</td>\n",
       "      <td>140.3570</td>\n",
       "      <td>71.900</td>\n",
       "      <td>4.7</td>\n",
       "      <td>mb</td>\n",
       "      <td>187.0</td>\n",
       "      <td>61.4</td>\n",
       "      <td>NaN</td>\n",
       "      <td>0.87</td>\n",
       "      <td>...</td>\n",
       "      <td>2022-07-24T21:17:54.312Z</td>\n",
       "      <td>4 km S of Daigo, Japan</td>\n",
       "      <td>earthquake</td>\n",
       "      <td>NaN</td>\n",
       "      <td>NaN</td>\n",
       "      <td>NaN</td>\n",
       "      <td>125.0</td>\n",
       "      <td>reviewed</td>\n",
       "      <td>us</td>\n",
       "      <td>us</td>\n",
       "    </tr>\n",
       "    <tr>\n",
       "      <th>3</th>\n",
       "      <td>2013-03-21T22:20:37.210Z</td>\n",
       "      <td>37.6480</td>\n",
       "      <td>141.6660</td>\n",
       "      <td>53.900</td>\n",
       "      <td>4.6</td>\n",
       "      <td>mb</td>\n",
       "      <td>55.0</td>\n",
       "      <td>118.4</td>\n",
       "      <td>NaN</td>\n",
       "      <td>0.86</td>\n",
       "      <td>...</td>\n",
       "      <td>2014-11-07T01:50:22.315Z</td>\n",
       "      <td>61 km ENE of Namie, Japan</td>\n",
       "      <td>earthquake</td>\n",
       "      <td>NaN</td>\n",
       "      <td>5.600</td>\n",
       "      <td>NaN</td>\n",
       "      <td>14.0</td>\n",
       "      <td>reviewed</td>\n",
       "      <td>us</td>\n",
       "      <td>us</td>\n",
       "    </tr>\n",
       "    <tr>\n",
       "      <th>4</th>\n",
       "      <td>2013-03-26T09:59:13.000Z</td>\n",
       "      <td>33.7070</td>\n",
       "      <td>140.5930</td>\n",
       "      <td>67.800</td>\n",
       "      <td>4.5</td>\n",
       "      <td>mb</td>\n",
       "      <td>75.0</td>\n",
       "      <td>99.0</td>\n",
       "      <td>NaN</td>\n",
       "      <td>0.73</td>\n",
       "      <td>...</td>\n",
       "      <td>2014-11-07T01:50:23.404Z</td>\n",
       "      <td>156 km SSE of Tateyama, Japan</td>\n",
       "      <td>earthquake</td>\n",
       "      <td>NaN</td>\n",
       "      <td>5.000</td>\n",
       "      <td>NaN</td>\n",
       "      <td>50.0</td>\n",
       "      <td>reviewed</td>\n",
       "      <td>us</td>\n",
       "      <td>us</td>\n",
       "    </tr>\n",
       "    <tr>\n",
       "      <th>...</th>\n",
       "      <td>...</td>\n",
       "      <td>...</td>\n",
       "      <td>...</td>\n",
       "      <td>...</td>\n",
       "      <td>...</td>\n",
       "      <td>...</td>\n",
       "      <td>...</td>\n",
       "      <td>...</td>\n",
       "      <td>...</td>\n",
       "      <td>...</td>\n",
       "      <td>...</td>\n",
       "      <td>...</td>\n",
       "      <td>...</td>\n",
       "      <td>...</td>\n",
       "      <td>...</td>\n",
       "      <td>...</td>\n",
       "      <td>...</td>\n",
       "      <td>...</td>\n",
       "      <td>...</td>\n",
       "      <td>...</td>\n",
       "      <td>...</td>\n",
       "    </tr>\n",
       "    <tr>\n",
       "      <th>2008</th>\n",
       "      <td>2023-03-02T06:47:40.400Z</td>\n",
       "      <td>33.2865</td>\n",
       "      <td>139.5226</td>\n",
       "      <td>18.235</td>\n",
       "      <td>5.0</td>\n",
       "      <td>mww</td>\n",
       "      <td>92.0</td>\n",
       "      <td>73.0</td>\n",
       "      <td>0.298</td>\n",
       "      <td>0.35</td>\n",
       "      <td>...</td>\n",
       "      <td>2023-03-18T08:49:45.040Z</td>\n",
       "      <td>163 km SSE of Shimoda, Japan</td>\n",
       "      <td>earthquake</td>\n",
       "      <td>6.34</td>\n",
       "      <td>4.116</td>\n",
       "      <td>0.086</td>\n",
       "      <td>13.0</td>\n",
       "      <td>reviewed</td>\n",
       "      <td>us</td>\n",
       "      <td>us</td>\n",
       "    </tr>\n",
       "    <tr>\n",
       "      <th>2009</th>\n",
       "      <td>2023-03-02T07:18:59.930Z</td>\n",
       "      <td>32.4914</td>\n",
       "      <td>135.7364</td>\n",
       "      <td>9.613</td>\n",
       "      <td>4.5</td>\n",
       "      <td>mb</td>\n",
       "      <td>42.0</td>\n",
       "      <td>101.0</td>\n",
       "      <td>1.992</td>\n",
       "      <td>0.39</td>\n",
       "      <td>...</td>\n",
       "      <td>2023-03-18T09:39:13.040Z</td>\n",
       "      <td>139 km S of Shing?, Japan</td>\n",
       "      <td>earthquake</td>\n",
       "      <td>6.68</td>\n",
       "      <td>4.386</td>\n",
       "      <td>0.108</td>\n",
       "      <td>27.0</td>\n",
       "      <td>reviewed</td>\n",
       "      <td>us</td>\n",
       "      <td>us</td>\n",
       "    </tr>\n",
       "    <tr>\n",
       "      <th>2010</th>\n",
       "      <td>2023-03-09T14:14:08.056Z</td>\n",
       "      <td>34.6466</td>\n",
       "      <td>141.2280</td>\n",
       "      <td>36.192</td>\n",
       "      <td>4.6</td>\n",
       "      <td>mb</td>\n",
       "      <td>41.0</td>\n",
       "      <td>147.0</td>\n",
       "      <td>1.928</td>\n",
       "      <td>1.05</td>\n",
       "      <td>...</td>\n",
       "      <td>2023-03-11T00:10:04.336Z</td>\n",
       "      <td>100 km SE of Katsuura, Japan</td>\n",
       "      <td>earthquake</td>\n",
       "      <td>8.37</td>\n",
       "      <td>7.770</td>\n",
       "      <td>0.074</td>\n",
       "      <td>54.0</td>\n",
       "      <td>reviewed</td>\n",
       "      <td>us</td>\n",
       "      <td>us</td>\n",
       "    </tr>\n",
       "    <tr>\n",
       "      <th>2011</th>\n",
       "      <td>2023-03-11T00:16:54.912Z</td>\n",
       "      <td>31.3687</td>\n",
       "      <td>141.7435</td>\n",
       "      <td>10.000</td>\n",
       "      <td>5.2</td>\n",
       "      <td>mb</td>\n",
       "      <td>147.0</td>\n",
       "      <td>35.0</td>\n",
       "      <td>2.389</td>\n",
       "      <td>0.82</td>\n",
       "      <td>...</td>\n",
       "      <td>2023-03-18T04:06:27.040Z</td>\n",
       "      <td>Izu Islands, Japan region</td>\n",
       "      <td>earthquake</td>\n",
       "      <td>7.01</td>\n",
       "      <td>1.777</td>\n",
       "      <td>0.029</td>\n",
       "      <td>398.0</td>\n",
       "      <td>reviewed</td>\n",
       "      <td>us</td>\n",
       "      <td>us</td>\n",
       "    </tr>\n",
       "    <tr>\n",
       "      <th>2012</th>\n",
       "      <td>2023-03-20T01:59:23.003Z</td>\n",
       "      <td>35.4406</td>\n",
       "      <td>140.8939</td>\n",
       "      <td>32.029</td>\n",
       "      <td>4.6</td>\n",
       "      <td>mwr</td>\n",
       "      <td>69.0</td>\n",
       "      <td>81.0</td>\n",
       "      <td>2.350</td>\n",
       "      <td>0.63</td>\n",
       "      <td>...</td>\n",
       "      <td>2023-03-20T06:11:13.400Z</td>\n",
       "      <td>near the east coast of Honshu, Japan</td>\n",
       "      <td>earthquake</td>\n",
       "      <td>7.25</td>\n",
       "      <td>4.978</td>\n",
       "      <td>0.066</td>\n",
       "      <td>22.0</td>\n",
       "      <td>reviewed</td>\n",
       "      <td>us</td>\n",
       "      <td>us</td>\n",
       "    </tr>\n",
       "  </tbody>\n",
       "</table>\n",
       "<p>2013 rows × 22 columns</p>\n",
       "</div>"
      ],
      "text/plain": [
       "                          time  latitude  longitude   depth  mag magType  \\\n",
       "0     2013-03-16T17:24:55.350Z   36.1230   141.5940  41.800  4.9      mb   \n",
       "1     2013-03-17T21:53:39.150Z   36.4350   140.5920  58.600  4.6      mb   \n",
       "2     2013-03-21T05:34:33.950Z   36.7240   140.3570  71.900  4.7      mb   \n",
       "3     2013-03-21T22:20:37.210Z   37.6480   141.6660  53.900  4.6      mb   \n",
       "4     2013-03-26T09:59:13.000Z   33.7070   140.5930  67.800  4.5      mb   \n",
       "...                        ...       ...        ...     ...  ...     ...   \n",
       "2008  2023-03-02T06:47:40.400Z   33.2865   139.5226  18.235  5.0     mww   \n",
       "2009  2023-03-02T07:18:59.930Z   32.4914   135.7364   9.613  4.5      mb   \n",
       "2010  2023-03-09T14:14:08.056Z   34.6466   141.2280  36.192  4.6      mb   \n",
       "2011  2023-03-11T00:16:54.912Z   31.3687   141.7435  10.000  5.2      mb   \n",
       "2012  2023-03-20T01:59:23.003Z   35.4406   140.8939  32.029  4.6     mwr   \n",
       "\n",
       "        nst    gap   dmin   rms  ...                   updated  \\\n",
       "0     281.0   64.9    NaN  0.88  ...  2014-11-07T01:50:21.073Z   \n",
       "1     101.0  111.9    NaN  0.95  ...  2022-07-24T21:03:00.695Z   \n",
       "2     187.0   61.4    NaN  0.87  ...  2022-07-24T21:17:54.312Z   \n",
       "3      55.0  118.4    NaN  0.86  ...  2014-11-07T01:50:22.315Z   \n",
       "4      75.0   99.0    NaN  0.73  ...  2014-11-07T01:50:23.404Z   \n",
       "...     ...    ...    ...   ...  ...                       ...   \n",
       "2008   92.0   73.0  0.298  0.35  ...  2023-03-18T08:49:45.040Z   \n",
       "2009   42.0  101.0  1.992  0.39  ...  2023-03-18T09:39:13.040Z   \n",
       "2010   41.0  147.0  1.928  1.05  ...  2023-03-11T00:10:04.336Z   \n",
       "2011  147.0   35.0  2.389  0.82  ...  2023-03-18T04:06:27.040Z   \n",
       "2012   69.0   81.0  2.350  0.63  ...  2023-03-20T06:11:13.400Z   \n",
       "\n",
       "                                     place        type horizontalError  \\\n",
       "0               81 km ENE of Hasaki, Japan  earthquake             NaN   \n",
       "1          4 km SSE of Funaishikawa, Japan  earthquake             NaN   \n",
       "2                   4 km S of Daigo, Japan  earthquake             NaN   \n",
       "3                61 km ENE of Namie, Japan  earthquake             NaN   \n",
       "4            156 km SSE of Tateyama, Japan  earthquake             NaN   \n",
       "...                                    ...         ...             ...   \n",
       "2008          163 km SSE of Shimoda, Japan  earthquake            6.34   \n",
       "2009             139 km S of Shing?, Japan  earthquake            6.68   \n",
       "2010          100 km SE of Katsuura, Japan  earthquake            8.37   \n",
       "2011             Izu Islands, Japan region  earthquake            7.01   \n",
       "2012  near the east coast of Honshu, Japan  earthquake            7.25   \n",
       "\n",
       "     depthError  magError  magNst    status  locationSource magSource  \n",
       "0         4.800       NaN   224.0  reviewed              us        us  \n",
       "1         5.000       NaN    59.0  reviewed              us        us  \n",
       "2           NaN       NaN   125.0  reviewed              us        us  \n",
       "3         5.600       NaN    14.0  reviewed              us        us  \n",
       "4         5.000       NaN    50.0  reviewed              us        us  \n",
       "...         ...       ...     ...       ...             ...       ...  \n",
       "2008      4.116     0.086    13.0  reviewed              us        us  \n",
       "2009      4.386     0.108    27.0  reviewed              us        us  \n",
       "2010      7.770     0.074    54.0  reviewed              us        us  \n",
       "2011      1.777     0.029   398.0  reviewed              us        us  \n",
       "2012      4.978     0.066    22.0  reviewed              us        us  \n",
       "\n",
       "[2013 rows x 22 columns]"
      ]
     },
     "execution_count": 4,
     "metadata": {},
     "output_type": "execute_result"
    }
   ],
   "source": [
    "df"
   ]
  },
  {
   "cell_type": "code",
   "execution_count": 5,
   "id": "ad4eaf1e",
   "metadata": {},
   "outputs": [
    {
     "data": {
      "text/plain": [
       "(2013, 22)"
      ]
     },
     "execution_count": 5,
     "metadata": {},
     "output_type": "execute_result"
    }
   ],
   "source": [
    "df.shape"
   ]
  },
  {
   "cell_type": "code",
   "execution_count": 6,
   "id": "5077a0e1",
   "metadata": {},
   "outputs": [
    {
     "name": "stdout",
     "output_type": "stream",
     "text": [
      "Index(['time', 'latitude', 'longitude', 'depth', 'mag', 'magType', 'nst',\n",
      "       'gap', 'dmin', 'rms', 'net', 'id', 'updated', 'place', 'type',\n",
      "       'horizontalError', 'depthError', 'magError', 'magNst', 'status',\n",
      "       'locationSource', 'magSource'],\n",
      "      dtype='object')\n"
     ]
    }
   ],
   "source": [
    "print(df.columns)"
   ]
  },
  {
   "cell_type": "code",
   "execution_count": 7,
   "id": "1cbb7fbe",
   "metadata": {},
   "outputs": [
    {
     "data": {
      "text/plain": [
       "time                object\n",
       "latitude           float64\n",
       "longitude          float64\n",
       "depth              float64\n",
       "mag                float64\n",
       "magType             object\n",
       "nst                float64\n",
       "gap                float64\n",
       "dmin               float64\n",
       "rms                float64\n",
       "net                 object\n",
       "id                  object\n",
       "updated             object\n",
       "place               object\n",
       "type                object\n",
       "horizontalError    float64\n",
       "depthError         float64\n",
       "magError           float64\n",
       "magNst             float64\n",
       "status              object\n",
       "locationSource      object\n",
       "magSource           object\n",
       "dtype: object"
      ]
     },
     "execution_count": 7,
     "metadata": {},
     "output_type": "execute_result"
    }
   ],
   "source": [
    "df.dtypes"
   ]
  },
  {
   "cell_type": "code",
   "execution_count": 8,
   "id": "ef750fcc",
   "metadata": {},
   "outputs": [
    {
     "data": {
      "text/plain": [
       "2"
      ]
     },
     "execution_count": 8,
     "metadata": {},
     "output_type": "execute_result"
    }
   ],
   "source": [
    "df.ndim"
   ]
  },
  {
   "cell_type": "code",
   "execution_count": 9,
   "id": "3c35df19",
   "metadata": {},
   "outputs": [
    {
     "data": {
      "text/plain": [
       "44286"
      ]
     },
     "execution_count": 9,
     "metadata": {},
     "output_type": "execute_result"
    }
   ],
   "source": [
    "df.size"
   ]
  },
  {
   "cell_type": "code",
   "execution_count": 10,
   "id": "4c2c3b0b",
   "metadata": {},
   "outputs": [
    {
     "data": {
      "text/plain": [
       "time                  0\n",
       "latitude              0\n",
       "longitude             0\n",
       "depth                 0\n",
       "mag                   0\n",
       "magType               0\n",
       "nst                1781\n",
       "gap                   0\n",
       "dmin                 76\n",
       "rms                   0\n",
       "net                   0\n",
       "id                    0\n",
       "updated               0\n",
       "place                10\n",
       "type                  0\n",
       "horizontalError     313\n",
       "depthError           12\n",
       "magError            146\n",
       "magNst              169\n",
       "status                0\n",
       "locationSource        0\n",
       "magSource             0\n",
       "dtype: int64"
      ]
     },
     "execution_count": 10,
     "metadata": {},
     "output_type": "execute_result"
    }
   ],
   "source": [
    "df.isnull().sum()"
   ]
  },
  {
   "cell_type": "code",
   "execution_count": 11,
   "id": "b2f2141d",
   "metadata": {},
   "outputs": [
    {
     "data": {
      "text/plain": [
       "time               0.000000\n",
       "latitude           0.000000\n",
       "longitude          0.000000\n",
       "depth              0.000000\n",
       "mag                0.000000\n",
       "magType            0.000000\n",
       "nst                0.884749\n",
       "gap                0.000000\n",
       "dmin               0.037755\n",
       "rms                0.000000\n",
       "net                0.000000\n",
       "id                 0.000000\n",
       "updated            0.000000\n",
       "place              0.004968\n",
       "type               0.000000\n",
       "horizontalError    0.155489\n",
       "depthError         0.005961\n",
       "magError           0.072529\n",
       "magNst             0.083954\n",
       "status             0.000000\n",
       "locationSource     0.000000\n",
       "magSource          0.000000\n",
       "dtype: float64"
      ]
     },
     "execution_count": 11,
     "metadata": {},
     "output_type": "execute_result"
    }
   ],
   "source": [
    "df.isnull().mean()"
   ]
  },
  {
   "cell_type": "code",
   "execution_count": 12,
   "id": "5660c6f4",
   "metadata": {},
   "outputs": [],
   "source": [
    "df.drop_duplicates(inplace = True)"
   ]
  },
  {
   "cell_type": "code",
   "execution_count": 13,
   "id": "d0d0d271",
   "metadata": {},
   "outputs": [
    {
     "data": {
      "text/plain": [
       "(2013, 22)"
      ]
     },
     "execution_count": 13,
     "metadata": {},
     "output_type": "execute_result"
    }
   ],
   "source": [
    "df.shape"
   ]
  },
  {
   "cell_type": "code",
   "execution_count": 14,
   "id": "8a8089cb",
   "metadata": {},
   "outputs": [
    {
     "data": {
      "text/plain": [
       "44286"
      ]
     },
     "execution_count": 14,
     "metadata": {},
     "output_type": "execute_result"
    }
   ],
   "source": [
    "df.size"
   ]
  },
  {
   "cell_type": "code",
   "execution_count": 15,
   "id": "9a36d6f1",
   "metadata": {},
   "outputs": [],
   "source": [
    "df_drop = df.drop(['nst'], axis = 1)"
   ]
  },
  {
   "cell_type": "code",
   "execution_count": 16,
   "id": "01055b8e",
   "metadata": {},
   "outputs": [],
   "source": [
    "df = df_drop"
   ]
  },
  {
   "cell_type": "code",
   "execution_count": 17,
   "id": "da7200c8",
   "metadata": {
    "scrolled": true
   },
   "outputs": [
    {
     "data": {
      "text/plain": [
       "time                 0\n",
       "latitude             0\n",
       "longitude            0\n",
       "depth                0\n",
       "mag                  0\n",
       "magType              0\n",
       "gap                  0\n",
       "dmin                76\n",
       "rms                  0\n",
       "net                  0\n",
       "id                   0\n",
       "updated              0\n",
       "place               10\n",
       "type                 0\n",
       "horizontalError    313\n",
       "depthError          12\n",
       "magError           146\n",
       "magNst             169\n",
       "status               0\n",
       "locationSource       0\n",
       "magSource            0\n",
       "dtype: int64"
      ]
     },
     "execution_count": 17,
     "metadata": {},
     "output_type": "execute_result"
    }
   ],
   "source": [
    "df_drop.isnull().sum()"
   ]
  },
  {
   "cell_type": "code",
   "execution_count": 18,
   "id": "a2fc726a",
   "metadata": {},
   "outputs": [
    {
     "data": {
      "text/plain": [
       "(2013, 21)"
      ]
     },
     "execution_count": 18,
     "metadata": {},
     "output_type": "execute_result"
    }
   ],
   "source": [
    "df_drop.shape"
   ]
  },
  {
   "cell_type": "code",
   "execution_count": 19,
   "id": "fe049075",
   "metadata": {},
   "outputs": [
    {
     "data": {
      "text/html": [
       "<div>\n",
       "<style scoped>\n",
       "    .dataframe tbody tr th:only-of-type {\n",
       "        vertical-align: middle;\n",
       "    }\n",
       "\n",
       "    .dataframe tbody tr th {\n",
       "        vertical-align: top;\n",
       "    }\n",
       "\n",
       "    .dataframe thead th {\n",
       "        text-align: right;\n",
       "    }\n",
       "</style>\n",
       "<table border=\"1\" class=\"dataframe\">\n",
       "  <thead>\n",
       "    <tr style=\"text-align: right;\">\n",
       "      <th></th>\n",
       "      <th>time</th>\n",
       "      <th>latitude</th>\n",
       "      <th>longitude</th>\n",
       "      <th>depth</th>\n",
       "      <th>mag</th>\n",
       "      <th>magType</th>\n",
       "      <th>gap</th>\n",
       "      <th>dmin</th>\n",
       "      <th>rms</th>\n",
       "      <th>net</th>\n",
       "      <th>...</th>\n",
       "      <th>updated</th>\n",
       "      <th>place</th>\n",
       "      <th>type</th>\n",
       "      <th>horizontalError</th>\n",
       "      <th>depthError</th>\n",
       "      <th>magError</th>\n",
       "      <th>magNst</th>\n",
       "      <th>status</th>\n",
       "      <th>locationSource</th>\n",
       "      <th>magSource</th>\n",
       "    </tr>\n",
       "  </thead>\n",
       "  <tbody>\n",
       "    <tr>\n",
       "      <th>0</th>\n",
       "      <td>2013-03-16T17:24:55.350Z</td>\n",
       "      <td>36.1230</td>\n",
       "      <td>141.5940</td>\n",
       "      <td>41.800</td>\n",
       "      <td>4.9</td>\n",
       "      <td>mb</td>\n",
       "      <td>64.9</td>\n",
       "      <td>NaN</td>\n",
       "      <td>0.88</td>\n",
       "      <td>us</td>\n",
       "      <td>...</td>\n",
       "      <td>2014-11-07T01:50:21.073Z</td>\n",
       "      <td>81 km ENE of Hasaki, Japan</td>\n",
       "      <td>earthquake</td>\n",
       "      <td>NaN</td>\n",
       "      <td>4.800</td>\n",
       "      <td>NaN</td>\n",
       "      <td>224.0</td>\n",
       "      <td>reviewed</td>\n",
       "      <td>us</td>\n",
       "      <td>us</td>\n",
       "    </tr>\n",
       "    <tr>\n",
       "      <th>1</th>\n",
       "      <td>2013-03-17T21:53:39.150Z</td>\n",
       "      <td>36.4350</td>\n",
       "      <td>140.5920</td>\n",
       "      <td>58.600</td>\n",
       "      <td>4.6</td>\n",
       "      <td>mb</td>\n",
       "      <td>111.9</td>\n",
       "      <td>NaN</td>\n",
       "      <td>0.95</td>\n",
       "      <td>us</td>\n",
       "      <td>...</td>\n",
       "      <td>2022-07-24T21:03:00.695Z</td>\n",
       "      <td>4 km SSE of Funaishikawa, Japan</td>\n",
       "      <td>earthquake</td>\n",
       "      <td>NaN</td>\n",
       "      <td>5.000</td>\n",
       "      <td>NaN</td>\n",
       "      <td>59.0</td>\n",
       "      <td>reviewed</td>\n",
       "      <td>us</td>\n",
       "      <td>us</td>\n",
       "    </tr>\n",
       "    <tr>\n",
       "      <th>2</th>\n",
       "      <td>2013-03-21T05:34:33.950Z</td>\n",
       "      <td>36.7240</td>\n",
       "      <td>140.3570</td>\n",
       "      <td>71.900</td>\n",
       "      <td>4.7</td>\n",
       "      <td>mb</td>\n",
       "      <td>61.4</td>\n",
       "      <td>NaN</td>\n",
       "      <td>0.87</td>\n",
       "      <td>us</td>\n",
       "      <td>...</td>\n",
       "      <td>2022-07-24T21:17:54.312Z</td>\n",
       "      <td>4 km S of Daigo, Japan</td>\n",
       "      <td>earthquake</td>\n",
       "      <td>NaN</td>\n",
       "      <td>NaN</td>\n",
       "      <td>NaN</td>\n",
       "      <td>125.0</td>\n",
       "      <td>reviewed</td>\n",
       "      <td>us</td>\n",
       "      <td>us</td>\n",
       "    </tr>\n",
       "    <tr>\n",
       "      <th>3</th>\n",
       "      <td>2013-03-21T22:20:37.210Z</td>\n",
       "      <td>37.6480</td>\n",
       "      <td>141.6660</td>\n",
       "      <td>53.900</td>\n",
       "      <td>4.6</td>\n",
       "      <td>mb</td>\n",
       "      <td>118.4</td>\n",
       "      <td>NaN</td>\n",
       "      <td>0.86</td>\n",
       "      <td>us</td>\n",
       "      <td>...</td>\n",
       "      <td>2014-11-07T01:50:22.315Z</td>\n",
       "      <td>61 km ENE of Namie, Japan</td>\n",
       "      <td>earthquake</td>\n",
       "      <td>NaN</td>\n",
       "      <td>5.600</td>\n",
       "      <td>NaN</td>\n",
       "      <td>14.0</td>\n",
       "      <td>reviewed</td>\n",
       "      <td>us</td>\n",
       "      <td>us</td>\n",
       "    </tr>\n",
       "    <tr>\n",
       "      <th>4</th>\n",
       "      <td>2013-03-26T09:59:13.000Z</td>\n",
       "      <td>33.7070</td>\n",
       "      <td>140.5930</td>\n",
       "      <td>67.800</td>\n",
       "      <td>4.5</td>\n",
       "      <td>mb</td>\n",
       "      <td>99.0</td>\n",
       "      <td>NaN</td>\n",
       "      <td>0.73</td>\n",
       "      <td>us</td>\n",
       "      <td>...</td>\n",
       "      <td>2014-11-07T01:50:23.404Z</td>\n",
       "      <td>156 km SSE of Tateyama, Japan</td>\n",
       "      <td>earthquake</td>\n",
       "      <td>NaN</td>\n",
       "      <td>5.000</td>\n",
       "      <td>NaN</td>\n",
       "      <td>50.0</td>\n",
       "      <td>reviewed</td>\n",
       "      <td>us</td>\n",
       "      <td>us</td>\n",
       "    </tr>\n",
       "    <tr>\n",
       "      <th>...</th>\n",
       "      <td>...</td>\n",
       "      <td>...</td>\n",
       "      <td>...</td>\n",
       "      <td>...</td>\n",
       "      <td>...</td>\n",
       "      <td>...</td>\n",
       "      <td>...</td>\n",
       "      <td>...</td>\n",
       "      <td>...</td>\n",
       "      <td>...</td>\n",
       "      <td>...</td>\n",
       "      <td>...</td>\n",
       "      <td>...</td>\n",
       "      <td>...</td>\n",
       "      <td>...</td>\n",
       "      <td>...</td>\n",
       "      <td>...</td>\n",
       "      <td>...</td>\n",
       "      <td>...</td>\n",
       "      <td>...</td>\n",
       "      <td>...</td>\n",
       "    </tr>\n",
       "    <tr>\n",
       "      <th>2008</th>\n",
       "      <td>2023-03-02T06:47:40.400Z</td>\n",
       "      <td>33.2865</td>\n",
       "      <td>139.5226</td>\n",
       "      <td>18.235</td>\n",
       "      <td>5.0</td>\n",
       "      <td>mww</td>\n",
       "      <td>73.0</td>\n",
       "      <td>0.298</td>\n",
       "      <td>0.35</td>\n",
       "      <td>us</td>\n",
       "      <td>...</td>\n",
       "      <td>2023-03-18T08:49:45.040Z</td>\n",
       "      <td>163 km SSE of Shimoda, Japan</td>\n",
       "      <td>earthquake</td>\n",
       "      <td>6.34</td>\n",
       "      <td>4.116</td>\n",
       "      <td>0.086</td>\n",
       "      <td>13.0</td>\n",
       "      <td>reviewed</td>\n",
       "      <td>us</td>\n",
       "      <td>us</td>\n",
       "    </tr>\n",
       "    <tr>\n",
       "      <th>2009</th>\n",
       "      <td>2023-03-02T07:18:59.930Z</td>\n",
       "      <td>32.4914</td>\n",
       "      <td>135.7364</td>\n",
       "      <td>9.613</td>\n",
       "      <td>4.5</td>\n",
       "      <td>mb</td>\n",
       "      <td>101.0</td>\n",
       "      <td>1.992</td>\n",
       "      <td>0.39</td>\n",
       "      <td>us</td>\n",
       "      <td>...</td>\n",
       "      <td>2023-03-18T09:39:13.040Z</td>\n",
       "      <td>139 km S of Shing?, Japan</td>\n",
       "      <td>earthquake</td>\n",
       "      <td>6.68</td>\n",
       "      <td>4.386</td>\n",
       "      <td>0.108</td>\n",
       "      <td>27.0</td>\n",
       "      <td>reviewed</td>\n",
       "      <td>us</td>\n",
       "      <td>us</td>\n",
       "    </tr>\n",
       "    <tr>\n",
       "      <th>2010</th>\n",
       "      <td>2023-03-09T14:14:08.056Z</td>\n",
       "      <td>34.6466</td>\n",
       "      <td>141.2280</td>\n",
       "      <td>36.192</td>\n",
       "      <td>4.6</td>\n",
       "      <td>mb</td>\n",
       "      <td>147.0</td>\n",
       "      <td>1.928</td>\n",
       "      <td>1.05</td>\n",
       "      <td>us</td>\n",
       "      <td>...</td>\n",
       "      <td>2023-03-11T00:10:04.336Z</td>\n",
       "      <td>100 km SE of Katsuura, Japan</td>\n",
       "      <td>earthquake</td>\n",
       "      <td>8.37</td>\n",
       "      <td>7.770</td>\n",
       "      <td>0.074</td>\n",
       "      <td>54.0</td>\n",
       "      <td>reviewed</td>\n",
       "      <td>us</td>\n",
       "      <td>us</td>\n",
       "    </tr>\n",
       "    <tr>\n",
       "      <th>2011</th>\n",
       "      <td>2023-03-11T00:16:54.912Z</td>\n",
       "      <td>31.3687</td>\n",
       "      <td>141.7435</td>\n",
       "      <td>10.000</td>\n",
       "      <td>5.2</td>\n",
       "      <td>mb</td>\n",
       "      <td>35.0</td>\n",
       "      <td>2.389</td>\n",
       "      <td>0.82</td>\n",
       "      <td>us</td>\n",
       "      <td>...</td>\n",
       "      <td>2023-03-18T04:06:27.040Z</td>\n",
       "      <td>Izu Islands, Japan region</td>\n",
       "      <td>earthquake</td>\n",
       "      <td>7.01</td>\n",
       "      <td>1.777</td>\n",
       "      <td>0.029</td>\n",
       "      <td>398.0</td>\n",
       "      <td>reviewed</td>\n",
       "      <td>us</td>\n",
       "      <td>us</td>\n",
       "    </tr>\n",
       "    <tr>\n",
       "      <th>2012</th>\n",
       "      <td>2023-03-20T01:59:23.003Z</td>\n",
       "      <td>35.4406</td>\n",
       "      <td>140.8939</td>\n",
       "      <td>32.029</td>\n",
       "      <td>4.6</td>\n",
       "      <td>mwr</td>\n",
       "      <td>81.0</td>\n",
       "      <td>2.350</td>\n",
       "      <td>0.63</td>\n",
       "      <td>us</td>\n",
       "      <td>...</td>\n",
       "      <td>2023-03-20T06:11:13.400Z</td>\n",
       "      <td>near the east coast of Honshu, Japan</td>\n",
       "      <td>earthquake</td>\n",
       "      <td>7.25</td>\n",
       "      <td>4.978</td>\n",
       "      <td>0.066</td>\n",
       "      <td>22.0</td>\n",
       "      <td>reviewed</td>\n",
       "      <td>us</td>\n",
       "      <td>us</td>\n",
       "    </tr>\n",
       "  </tbody>\n",
       "</table>\n",
       "<p>2013 rows × 21 columns</p>\n",
       "</div>"
      ],
      "text/plain": [
       "                          time  latitude  longitude   depth  mag magType  \\\n",
       "0     2013-03-16T17:24:55.350Z   36.1230   141.5940  41.800  4.9      mb   \n",
       "1     2013-03-17T21:53:39.150Z   36.4350   140.5920  58.600  4.6      mb   \n",
       "2     2013-03-21T05:34:33.950Z   36.7240   140.3570  71.900  4.7      mb   \n",
       "3     2013-03-21T22:20:37.210Z   37.6480   141.6660  53.900  4.6      mb   \n",
       "4     2013-03-26T09:59:13.000Z   33.7070   140.5930  67.800  4.5      mb   \n",
       "...                        ...       ...        ...     ...  ...     ...   \n",
       "2008  2023-03-02T06:47:40.400Z   33.2865   139.5226  18.235  5.0     mww   \n",
       "2009  2023-03-02T07:18:59.930Z   32.4914   135.7364   9.613  4.5      mb   \n",
       "2010  2023-03-09T14:14:08.056Z   34.6466   141.2280  36.192  4.6      mb   \n",
       "2011  2023-03-11T00:16:54.912Z   31.3687   141.7435  10.000  5.2      mb   \n",
       "2012  2023-03-20T01:59:23.003Z   35.4406   140.8939  32.029  4.6     mwr   \n",
       "\n",
       "        gap   dmin   rms net  ...                   updated  \\\n",
       "0      64.9    NaN  0.88  us  ...  2014-11-07T01:50:21.073Z   \n",
       "1     111.9    NaN  0.95  us  ...  2022-07-24T21:03:00.695Z   \n",
       "2      61.4    NaN  0.87  us  ...  2022-07-24T21:17:54.312Z   \n",
       "3     118.4    NaN  0.86  us  ...  2014-11-07T01:50:22.315Z   \n",
       "4      99.0    NaN  0.73  us  ...  2014-11-07T01:50:23.404Z   \n",
       "...     ...    ...   ...  ..  ...                       ...   \n",
       "2008   73.0  0.298  0.35  us  ...  2023-03-18T08:49:45.040Z   \n",
       "2009  101.0  1.992  0.39  us  ...  2023-03-18T09:39:13.040Z   \n",
       "2010  147.0  1.928  1.05  us  ...  2023-03-11T00:10:04.336Z   \n",
       "2011   35.0  2.389  0.82  us  ...  2023-03-18T04:06:27.040Z   \n",
       "2012   81.0  2.350  0.63  us  ...  2023-03-20T06:11:13.400Z   \n",
       "\n",
       "                                     place        type horizontalError  \\\n",
       "0               81 km ENE of Hasaki, Japan  earthquake             NaN   \n",
       "1          4 km SSE of Funaishikawa, Japan  earthquake             NaN   \n",
       "2                   4 km S of Daigo, Japan  earthquake             NaN   \n",
       "3                61 km ENE of Namie, Japan  earthquake             NaN   \n",
       "4            156 km SSE of Tateyama, Japan  earthquake             NaN   \n",
       "...                                    ...         ...             ...   \n",
       "2008          163 km SSE of Shimoda, Japan  earthquake            6.34   \n",
       "2009             139 km S of Shing?, Japan  earthquake            6.68   \n",
       "2010          100 km SE of Katsuura, Japan  earthquake            8.37   \n",
       "2011             Izu Islands, Japan region  earthquake            7.01   \n",
       "2012  near the east coast of Honshu, Japan  earthquake            7.25   \n",
       "\n",
       "      depthError  magError  magNst    status locationSource magSource  \n",
       "0          4.800       NaN   224.0  reviewed             us        us  \n",
       "1          5.000       NaN    59.0  reviewed             us        us  \n",
       "2            NaN       NaN   125.0  reviewed             us        us  \n",
       "3          5.600       NaN    14.0  reviewed             us        us  \n",
       "4          5.000       NaN    50.0  reviewed             us        us  \n",
       "...          ...       ...     ...       ...            ...       ...  \n",
       "2008       4.116     0.086    13.0  reviewed             us        us  \n",
       "2009       4.386     0.108    27.0  reviewed             us        us  \n",
       "2010       7.770     0.074    54.0  reviewed             us        us  \n",
       "2011       1.777     0.029   398.0  reviewed             us        us  \n",
       "2012       4.978     0.066    22.0  reviewed             us        us  \n",
       "\n",
       "[2013 rows x 21 columns]"
      ]
     },
     "execution_count": 19,
     "metadata": {},
     "output_type": "execute_result"
    }
   ],
   "source": [
    "df"
   ]
  },
  {
   "cell_type": "code",
   "execution_count": 20,
   "id": "27d94ecb",
   "metadata": {},
   "outputs": [],
   "source": [
    "df['horizontalError'] = df['horizontalError'].fillna(df['horizontalError'].median())"
   ]
  },
  {
   "cell_type": "code",
   "execution_count": 21,
   "id": "c1224cb2",
   "metadata": {},
   "outputs": [
    {
     "data": {
      "text/plain": [
       "time                 0\n",
       "latitude             0\n",
       "longitude            0\n",
       "depth                0\n",
       "mag                  0\n",
       "magType              0\n",
       "gap                  0\n",
       "dmin                76\n",
       "rms                  0\n",
       "net                  0\n",
       "id                   0\n",
       "updated              0\n",
       "place               10\n",
       "type                 0\n",
       "horizontalError      0\n",
       "depthError          12\n",
       "magError           146\n",
       "magNst             169\n",
       "status               0\n",
       "locationSource       0\n",
       "magSource            0\n",
       "dtype: int64"
      ]
     },
     "execution_count": 21,
     "metadata": {},
     "output_type": "execute_result"
    }
   ],
   "source": [
    "df.isnull().sum()"
   ]
  },
  {
   "cell_type": "code",
   "execution_count": 22,
   "id": "c6bd00b1",
   "metadata": {},
   "outputs": [],
   "source": [
    "df['magError'] = df['magError'].fillna(df['magError'].median())\n",
    "df['magNst'] = df['magNst'].fillna(df['magNst'].mean())"
   ]
  },
  {
   "cell_type": "code",
   "execution_count": 23,
   "id": "adae7e38",
   "metadata": {},
   "outputs": [
    {
     "data": {
      "text/plain": [
       "time                0\n",
       "latitude            0\n",
       "longitude           0\n",
       "depth               0\n",
       "mag                 0\n",
       "magType             0\n",
       "gap                 0\n",
       "dmin               76\n",
       "rms                 0\n",
       "net                 0\n",
       "id                  0\n",
       "updated             0\n",
       "place              10\n",
       "type                0\n",
       "horizontalError     0\n",
       "depthError         12\n",
       "magError            0\n",
       "magNst              0\n",
       "status              0\n",
       "locationSource      0\n",
       "magSource           0\n",
       "dtype: int64"
      ]
     },
     "execution_count": 23,
     "metadata": {},
     "output_type": "execute_result"
    }
   ],
   "source": [
    "df.isnull().sum()"
   ]
  },
  {
   "cell_type": "code",
   "execution_count": 24,
   "id": "8515fb97",
   "metadata": {},
   "outputs": [],
   "source": [
    "df = df.dropna(axis=0).reset_index(drop=True)"
   ]
  },
  {
   "cell_type": "code",
   "execution_count": 25,
   "id": "b05f7d42",
   "metadata": {},
   "outputs": [
    {
     "data": {
      "text/plain": [
       "time               0\n",
       "latitude           0\n",
       "longitude          0\n",
       "depth              0\n",
       "mag                0\n",
       "magType            0\n",
       "gap                0\n",
       "dmin               0\n",
       "rms                0\n",
       "net                0\n",
       "id                 0\n",
       "updated            0\n",
       "place              0\n",
       "type               0\n",
       "horizontalError    0\n",
       "depthError         0\n",
       "magError           0\n",
       "magNst             0\n",
       "status             0\n",
       "locationSource     0\n",
       "magSource          0\n",
       "dtype: int64"
      ]
     },
     "execution_count": 25,
     "metadata": {},
     "output_type": "execute_result"
    }
   ],
   "source": [
    "df.isnull().sum()"
   ]
  },
  {
   "cell_type": "code",
   "execution_count": 26,
   "id": "f8e5783e",
   "metadata": {},
   "outputs": [
    {
     "data": {
      "text/plain": [
       "(1927, 21)"
      ]
     },
     "execution_count": 26,
     "metadata": {},
     "output_type": "execute_result"
    }
   ],
   "source": [
    "df.shape"
   ]
  },
  {
   "cell_type": "code",
   "execution_count": 27,
   "id": "9b13d4c8",
   "metadata": {
    "scrolled": true
   },
   "outputs": [
    {
     "data": {
      "text/html": [
       "<div>\n",
       "<style scoped>\n",
       "    .dataframe tbody tr th:only-of-type {\n",
       "        vertical-align: middle;\n",
       "    }\n",
       "\n",
       "    .dataframe tbody tr th {\n",
       "        vertical-align: top;\n",
       "    }\n",
       "\n",
       "    .dataframe thead th {\n",
       "        text-align: right;\n",
       "    }\n",
       "</style>\n",
       "<table border=\"1\" class=\"dataframe\">\n",
       "  <thead>\n",
       "    <tr style=\"text-align: right;\">\n",
       "      <th></th>\n",
       "      <th>time</th>\n",
       "      <th>latitude</th>\n",
       "      <th>longitude</th>\n",
       "      <th>depth</th>\n",
       "      <th>mag</th>\n",
       "      <th>magType</th>\n",
       "      <th>gap</th>\n",
       "      <th>dmin</th>\n",
       "      <th>rms</th>\n",
       "      <th>net</th>\n",
       "      <th>...</th>\n",
       "      <th>updated</th>\n",
       "      <th>place</th>\n",
       "      <th>type</th>\n",
       "      <th>horizontalError</th>\n",
       "      <th>depthError</th>\n",
       "      <th>magError</th>\n",
       "      <th>magNst</th>\n",
       "      <th>status</th>\n",
       "      <th>locationSource</th>\n",
       "      <th>magSource</th>\n",
       "    </tr>\n",
       "  </thead>\n",
       "  <tbody>\n",
       "    <tr>\n",
       "      <th>0</th>\n",
       "      <td>2013-08-01T11:13:27.290Z</td>\n",
       "      <td>35.2208</td>\n",
       "      <td>141.2459</td>\n",
       "      <td>34.440</td>\n",
       "      <td>4.5</td>\n",
       "      <td>mb</td>\n",
       "      <td>121.0</td>\n",
       "      <td>2.412</td>\n",
       "      <td>0.75</td>\n",
       "      <td>us</td>\n",
       "      <td>...</td>\n",
       "      <td>2013-09-25T17:45:49.000Z</td>\n",
       "      <td>68 km SSE of Hasaki, Japan</td>\n",
       "      <td>earthquake</td>\n",
       "      <td>6.40</td>\n",
       "      <td>6.200</td>\n",
       "      <td>0.313</td>\n",
       "      <td>69.178416</td>\n",
       "      <td>reviewed</td>\n",
       "      <td>us</td>\n",
       "      <td>us</td>\n",
       "    </tr>\n",
       "    <tr>\n",
       "      <th>1</th>\n",
       "      <td>2013-08-03T00:56:15.280Z</td>\n",
       "      <td>34.5452</td>\n",
       "      <td>137.5490</td>\n",
       "      <td>33.120</td>\n",
       "      <td>5.1</td>\n",
       "      <td>mb</td>\n",
       "      <td>73.0</td>\n",
       "      <td>0.909</td>\n",
       "      <td>0.60</td>\n",
       "      <td>us</td>\n",
       "      <td>...</td>\n",
       "      <td>2022-07-25T19:34:58.463Z</td>\n",
       "      <td>24 km SW of Hamamatsu, Japan</td>\n",
       "      <td>earthquake</td>\n",
       "      <td>6.40</td>\n",
       "      <td>3.200</td>\n",
       "      <td>0.039</td>\n",
       "      <td>69.178416</td>\n",
       "      <td>reviewed</td>\n",
       "      <td>us</td>\n",
       "      <td>us</td>\n",
       "    </tr>\n",
       "    <tr>\n",
       "      <th>2</th>\n",
       "      <td>2013-08-04T03:28:50.810Z</td>\n",
       "      <td>38.2133</td>\n",
       "      <td>141.8621</td>\n",
       "      <td>56.000</td>\n",
       "      <td>5.8</td>\n",
       "      <td>mww</td>\n",
       "      <td>18.0</td>\n",
       "      <td>3.355</td>\n",
       "      <td>0.67</td>\n",
       "      <td>us</td>\n",
       "      <td>...</td>\n",
       "      <td>2022-07-25T19:40:11.276Z</td>\n",
       "      <td>54 km ESE of Ishinomaki, Japan</td>\n",
       "      <td>earthquake</td>\n",
       "      <td>6.40</td>\n",
       "      <td>1.700</td>\n",
       "      <td>0.079</td>\n",
       "      <td>69.178416</td>\n",
       "      <td>reviewed</td>\n",
       "      <td>us</td>\n",
       "      <td>us</td>\n",
       "    </tr>\n",
       "    <tr>\n",
       "      <th>3</th>\n",
       "      <td>2013-08-07T10:56:07.220Z</td>\n",
       "      <td>33.8869</td>\n",
       "      <td>141.6805</td>\n",
       "      <td>12.010</td>\n",
       "      <td>4.5</td>\n",
       "      <td>mb</td>\n",
       "      <td>119.0</td>\n",
       "      <td>1.739</td>\n",
       "      <td>0.64</td>\n",
       "      <td>us</td>\n",
       "      <td>...</td>\n",
       "      <td>2013-10-12T21:32:31.000Z</td>\n",
       "      <td>187 km SE of Katsuura, Japan</td>\n",
       "      <td>earthquake</td>\n",
       "      <td>6.40</td>\n",
       "      <td>4.300</td>\n",
       "      <td>0.090</td>\n",
       "      <td>69.178416</td>\n",
       "      <td>reviewed</td>\n",
       "      <td>us</td>\n",
       "      <td>us</td>\n",
       "    </tr>\n",
       "    <tr>\n",
       "      <th>4</th>\n",
       "      <td>2013-08-09T18:34:16.020Z</td>\n",
       "      <td>32.0400</td>\n",
       "      <td>141.3012</td>\n",
       "      <td>52.730</td>\n",
       "      <td>4.8</td>\n",
       "      <td>mb</td>\n",
       "      <td>92.0</td>\n",
       "      <td>1.651</td>\n",
       "      <td>0.98</td>\n",
       "      <td>us</td>\n",
       "      <td>...</td>\n",
       "      <td>2013-10-12T21:32:33.000Z</td>\n",
       "      <td>Izu Islands, Japan region</td>\n",
       "      <td>earthquake</td>\n",
       "      <td>6.40</td>\n",
       "      <td>6.000</td>\n",
       "      <td>0.075</td>\n",
       "      <td>69.178416</td>\n",
       "      <td>reviewed</td>\n",
       "      <td>us</td>\n",
       "      <td>us</td>\n",
       "    </tr>\n",
       "    <tr>\n",
       "      <th>...</th>\n",
       "      <td>...</td>\n",
       "      <td>...</td>\n",
       "      <td>...</td>\n",
       "      <td>...</td>\n",
       "      <td>...</td>\n",
       "      <td>...</td>\n",
       "      <td>...</td>\n",
       "      <td>...</td>\n",
       "      <td>...</td>\n",
       "      <td>...</td>\n",
       "      <td>...</td>\n",
       "      <td>...</td>\n",
       "      <td>...</td>\n",
       "      <td>...</td>\n",
       "      <td>...</td>\n",
       "      <td>...</td>\n",
       "      <td>...</td>\n",
       "      <td>...</td>\n",
       "      <td>...</td>\n",
       "      <td>...</td>\n",
       "      <td>...</td>\n",
       "    </tr>\n",
       "    <tr>\n",
       "      <th>1922</th>\n",
       "      <td>2023-03-02T06:47:40.400Z</td>\n",
       "      <td>33.2865</td>\n",
       "      <td>139.5226</td>\n",
       "      <td>18.235</td>\n",
       "      <td>5.0</td>\n",
       "      <td>mww</td>\n",
       "      <td>73.0</td>\n",
       "      <td>0.298</td>\n",
       "      <td>0.35</td>\n",
       "      <td>us</td>\n",
       "      <td>...</td>\n",
       "      <td>2023-03-18T08:49:45.040Z</td>\n",
       "      <td>163 km SSE of Shimoda, Japan</td>\n",
       "      <td>earthquake</td>\n",
       "      <td>6.34</td>\n",
       "      <td>4.116</td>\n",
       "      <td>0.086</td>\n",
       "      <td>13.000000</td>\n",
       "      <td>reviewed</td>\n",
       "      <td>us</td>\n",
       "      <td>us</td>\n",
       "    </tr>\n",
       "    <tr>\n",
       "      <th>1923</th>\n",
       "      <td>2023-03-02T07:18:59.930Z</td>\n",
       "      <td>32.4914</td>\n",
       "      <td>135.7364</td>\n",
       "      <td>9.613</td>\n",
       "      <td>4.5</td>\n",
       "      <td>mb</td>\n",
       "      <td>101.0</td>\n",
       "      <td>1.992</td>\n",
       "      <td>0.39</td>\n",
       "      <td>us</td>\n",
       "      <td>...</td>\n",
       "      <td>2023-03-18T09:39:13.040Z</td>\n",
       "      <td>139 km S of Shing?, Japan</td>\n",
       "      <td>earthquake</td>\n",
       "      <td>6.68</td>\n",
       "      <td>4.386</td>\n",
       "      <td>0.108</td>\n",
       "      <td>27.000000</td>\n",
       "      <td>reviewed</td>\n",
       "      <td>us</td>\n",
       "      <td>us</td>\n",
       "    </tr>\n",
       "    <tr>\n",
       "      <th>1924</th>\n",
       "      <td>2023-03-09T14:14:08.056Z</td>\n",
       "      <td>34.6466</td>\n",
       "      <td>141.2280</td>\n",
       "      <td>36.192</td>\n",
       "      <td>4.6</td>\n",
       "      <td>mb</td>\n",
       "      <td>147.0</td>\n",
       "      <td>1.928</td>\n",
       "      <td>1.05</td>\n",
       "      <td>us</td>\n",
       "      <td>...</td>\n",
       "      <td>2023-03-11T00:10:04.336Z</td>\n",
       "      <td>100 km SE of Katsuura, Japan</td>\n",
       "      <td>earthquake</td>\n",
       "      <td>8.37</td>\n",
       "      <td>7.770</td>\n",
       "      <td>0.074</td>\n",
       "      <td>54.000000</td>\n",
       "      <td>reviewed</td>\n",
       "      <td>us</td>\n",
       "      <td>us</td>\n",
       "    </tr>\n",
       "    <tr>\n",
       "      <th>1925</th>\n",
       "      <td>2023-03-11T00:16:54.912Z</td>\n",
       "      <td>31.3687</td>\n",
       "      <td>141.7435</td>\n",
       "      <td>10.000</td>\n",
       "      <td>5.2</td>\n",
       "      <td>mb</td>\n",
       "      <td>35.0</td>\n",
       "      <td>2.389</td>\n",
       "      <td>0.82</td>\n",
       "      <td>us</td>\n",
       "      <td>...</td>\n",
       "      <td>2023-03-18T04:06:27.040Z</td>\n",
       "      <td>Izu Islands, Japan region</td>\n",
       "      <td>earthquake</td>\n",
       "      <td>7.01</td>\n",
       "      <td>1.777</td>\n",
       "      <td>0.029</td>\n",
       "      <td>398.000000</td>\n",
       "      <td>reviewed</td>\n",
       "      <td>us</td>\n",
       "      <td>us</td>\n",
       "    </tr>\n",
       "    <tr>\n",
       "      <th>1926</th>\n",
       "      <td>2023-03-20T01:59:23.003Z</td>\n",
       "      <td>35.4406</td>\n",
       "      <td>140.8939</td>\n",
       "      <td>32.029</td>\n",
       "      <td>4.6</td>\n",
       "      <td>mwr</td>\n",
       "      <td>81.0</td>\n",
       "      <td>2.350</td>\n",
       "      <td>0.63</td>\n",
       "      <td>us</td>\n",
       "      <td>...</td>\n",
       "      <td>2023-03-20T06:11:13.400Z</td>\n",
       "      <td>near the east coast of Honshu, Japan</td>\n",
       "      <td>earthquake</td>\n",
       "      <td>7.25</td>\n",
       "      <td>4.978</td>\n",
       "      <td>0.066</td>\n",
       "      <td>22.000000</td>\n",
       "      <td>reviewed</td>\n",
       "      <td>us</td>\n",
       "      <td>us</td>\n",
       "    </tr>\n",
       "  </tbody>\n",
       "</table>\n",
       "<p>1927 rows × 21 columns</p>\n",
       "</div>"
      ],
      "text/plain": [
       "                          time  latitude  longitude   depth  mag magType  \\\n",
       "0     2013-08-01T11:13:27.290Z   35.2208   141.2459  34.440  4.5      mb   \n",
       "1     2013-08-03T00:56:15.280Z   34.5452   137.5490  33.120  5.1      mb   \n",
       "2     2013-08-04T03:28:50.810Z   38.2133   141.8621  56.000  5.8     mww   \n",
       "3     2013-08-07T10:56:07.220Z   33.8869   141.6805  12.010  4.5      mb   \n",
       "4     2013-08-09T18:34:16.020Z   32.0400   141.3012  52.730  4.8      mb   \n",
       "...                        ...       ...        ...     ...  ...     ...   \n",
       "1922  2023-03-02T06:47:40.400Z   33.2865   139.5226  18.235  5.0     mww   \n",
       "1923  2023-03-02T07:18:59.930Z   32.4914   135.7364   9.613  4.5      mb   \n",
       "1924  2023-03-09T14:14:08.056Z   34.6466   141.2280  36.192  4.6      mb   \n",
       "1925  2023-03-11T00:16:54.912Z   31.3687   141.7435  10.000  5.2      mb   \n",
       "1926  2023-03-20T01:59:23.003Z   35.4406   140.8939  32.029  4.6     mwr   \n",
       "\n",
       "        gap   dmin   rms net  ...                   updated  \\\n",
       "0     121.0  2.412  0.75  us  ...  2013-09-25T17:45:49.000Z   \n",
       "1      73.0  0.909  0.60  us  ...  2022-07-25T19:34:58.463Z   \n",
       "2      18.0  3.355  0.67  us  ...  2022-07-25T19:40:11.276Z   \n",
       "3     119.0  1.739  0.64  us  ...  2013-10-12T21:32:31.000Z   \n",
       "4      92.0  1.651  0.98  us  ...  2013-10-12T21:32:33.000Z   \n",
       "...     ...    ...   ...  ..  ...                       ...   \n",
       "1922   73.0  0.298  0.35  us  ...  2023-03-18T08:49:45.040Z   \n",
       "1923  101.0  1.992  0.39  us  ...  2023-03-18T09:39:13.040Z   \n",
       "1924  147.0  1.928  1.05  us  ...  2023-03-11T00:10:04.336Z   \n",
       "1925   35.0  2.389  0.82  us  ...  2023-03-18T04:06:27.040Z   \n",
       "1926   81.0  2.350  0.63  us  ...  2023-03-20T06:11:13.400Z   \n",
       "\n",
       "                                     place        type horizontalError  \\\n",
       "0               68 km SSE of Hasaki, Japan  earthquake            6.40   \n",
       "1             24 km SW of Hamamatsu, Japan  earthquake            6.40   \n",
       "2           54 km ESE of Ishinomaki, Japan  earthquake            6.40   \n",
       "3             187 km SE of Katsuura, Japan  earthquake            6.40   \n",
       "4                Izu Islands, Japan region  earthquake            6.40   \n",
       "...                                    ...         ...             ...   \n",
       "1922          163 km SSE of Shimoda, Japan  earthquake            6.34   \n",
       "1923             139 km S of Shing?, Japan  earthquake            6.68   \n",
       "1924          100 km SE of Katsuura, Japan  earthquake            8.37   \n",
       "1925             Izu Islands, Japan region  earthquake            7.01   \n",
       "1926  near the east coast of Honshu, Japan  earthquake            7.25   \n",
       "\n",
       "      depthError  magError      magNst    status locationSource magSource  \n",
       "0          6.200     0.313   69.178416  reviewed             us        us  \n",
       "1          3.200     0.039   69.178416  reviewed             us        us  \n",
       "2          1.700     0.079   69.178416  reviewed             us        us  \n",
       "3          4.300     0.090   69.178416  reviewed             us        us  \n",
       "4          6.000     0.075   69.178416  reviewed             us        us  \n",
       "...          ...       ...         ...       ...            ...       ...  \n",
       "1922       4.116     0.086   13.000000  reviewed             us        us  \n",
       "1923       4.386     0.108   27.000000  reviewed             us        us  \n",
       "1924       7.770     0.074   54.000000  reviewed             us        us  \n",
       "1925       1.777     0.029  398.000000  reviewed             us        us  \n",
       "1926       4.978     0.066   22.000000  reviewed             us        us  \n",
       "\n",
       "[1927 rows x 21 columns]"
      ]
     },
     "execution_count": 27,
     "metadata": {},
     "output_type": "execute_result"
    }
   ],
   "source": [
    "df"
   ]
  },
  {
   "cell_type": "code",
   "execution_count": 28,
   "id": "75c3f2b1",
   "metadata": {},
   "outputs": [
    {
     "data": {
      "text/plain": [
       "40467"
      ]
     },
     "execution_count": 28,
     "metadata": {},
     "output_type": "execute_result"
    }
   ],
   "source": [
    "df.size"
   ]
  },
  {
   "cell_type": "code",
   "execution_count": 29,
   "id": "1237e6c5",
   "metadata": {},
   "outputs": [
    {
     "data": {
      "text/plain": [
       "time               0\n",
       "latitude           0\n",
       "longitude          0\n",
       "depth              0\n",
       "mag                0\n",
       "magType            0\n",
       "gap                0\n",
       "dmin               0\n",
       "rms                0\n",
       "net                0\n",
       "id                 0\n",
       "updated            0\n",
       "place              0\n",
       "type               0\n",
       "horizontalError    0\n",
       "depthError         0\n",
       "magError           0\n",
       "magNst             0\n",
       "status             0\n",
       "locationSource     0\n",
       "magSource          0\n",
       "dtype: int64"
      ]
     },
     "execution_count": 29,
     "metadata": {},
     "output_type": "execute_result"
    }
   ],
   "source": [
    "df.isnull().sum()"
   ]
  },
  {
   "cell_type": "code",
   "execution_count": 30,
   "id": "9c1a02a8",
   "metadata": {},
   "outputs": [
    {
     "data": {
      "text/plain": [
       "(1927, 21)"
      ]
     },
     "execution_count": 30,
     "metadata": {},
     "output_type": "execute_result"
    }
   ],
   "source": [
    "df.shape"
   ]
  },
  {
   "cell_type": "markdown",
   "id": "ba1e76b9",
   "metadata": {},
   "source": [
    "# Dataset Plotting"
   ]
  },
  {
   "cell_type": "code",
   "execution_count": 32,
   "id": "a9ea0dcb",
   "metadata": {},
   "outputs": [],
   "source": [
    "from matplotlib import pyplot as plt \n",
    "import seaborn as sns"
   ]
  },
  {
   "cell_type": "code",
   "execution_count": 33,
   "id": "3e6c0af1",
   "metadata": {},
   "outputs": [
    {
     "data": {
      "image/png": "[encoded data removed]",
      "text/plain": [
       "<Figure size 800x800 with 1 Axes>"
      ]
     },
     "metadata": {},
     "output_type": "display_data"
    }
   ],
   "source": [
    "plt.figure(figsize = (8,8))\n",
    "plt.scatter(x = 'depth', y = 'mag', data = df)\n",
    "# scatter plot with pyplot\n",
    "plt.xlabel('Depth')\n",
    "plt.ylabel('Magnitude')\n",
    "plt.title('Scatterplot of Depth against Magnitude');"
   ]
  },
  {
   "cell_type": "code",
   "execution_count": 34,
   "id": "7a808546",
   "metadata": {},
   "outputs": [
    {
     "data": {
      "image/png": "[encoded data removed]",
      "text/plain": [
       "<Figure size 640x480 with 1 Axes>"
      ]
     },
     "metadata": {},
     "output_type": "display_data"
    }
   ],
   "source": [
    "sns.scatterplot(x = 'depth', y = 'mag', data = df);\n",
    "# scatter plot with Seaborn"
   ]
  },
  {
   "cell_type": "code",
   "execution_count": 35,
   "id": "cae58a37",
   "metadata": {},
   "outputs": [
    {
     "data": {
      "image/png": "[encoded data removed]",
      "text/plain": [
       "<Figure size 640x480 with 1 Axes>"
      ]
     },
     "metadata": {},
     "output_type": "display_data"
    }
   ],
   "source": [
    "sns.scatterplot(x = 'depth', y = 'mag', hue = 'magType', data = df);\n",
    "#plt.axhline(y=222, color='r', linestyle='-');"
   ]
  },
  {
   "cell_type": "code",
   "execution_count": 36,
   "id": "14ab09f7",
   "metadata": {},
   "outputs": [
    {
     "data": {
      "text/html": [
       "<div>\n",
       "<style scoped>\n",
       "    .dataframe tbody tr th:only-of-type {\n",
       "        vertical-align: middle;\n",
       "    }\n",
       "\n",
       "    .dataframe tbody tr th {\n",
       "        vertical-align: top;\n",
       "    }\n",
       "\n",
       "    .dataframe thead th {\n",
       "        text-align: right;\n",
       "    }\n",
       "</style>\n",
       "<table border=\"1\" class=\"dataframe\">\n",
       "  <thead>\n",
       "    <tr style=\"text-align: right;\">\n",
       "      <th></th>\n",
       "      <th>time</th>\n",
       "      <th>latitude</th>\n",
       "      <th>longitude</th>\n",
       "      <th>depth</th>\n",
       "      <th>mag</th>\n",
       "      <th>magType</th>\n",
       "      <th>gap</th>\n",
       "      <th>dmin</th>\n",
       "      <th>rms</th>\n",
       "      <th>net</th>\n",
       "      <th>...</th>\n",
       "      <th>updated</th>\n",
       "      <th>place</th>\n",
       "      <th>type</th>\n",
       "      <th>horizontalError</th>\n",
       "      <th>depthError</th>\n",
       "      <th>magError</th>\n",
       "      <th>magNst</th>\n",
       "      <th>status</th>\n",
       "      <th>locationSource</th>\n",
       "      <th>magSource</th>\n",
       "    </tr>\n",
       "  </thead>\n",
       "  <tbody>\n",
       "    <tr>\n",
       "      <th>0</th>\n",
       "      <td>2013-08-01T11:13:27.290Z</td>\n",
       "      <td>35.2208</td>\n",
       "      <td>141.2459</td>\n",
       "      <td>34.44</td>\n",
       "      <td>4.5</td>\n",
       "      <td>mb</td>\n",
       "      <td>121.0</td>\n",
       "      <td>2.412</td>\n",
       "      <td>0.75</td>\n",
       "      <td>us</td>\n",
       "      <td>...</td>\n",
       "      <td>2013-09-25T17:45:49.000Z</td>\n",
       "      <td>68 km SSE of Hasaki, Japan</td>\n",
       "      <td>earthquake</td>\n",
       "      <td>6.4</td>\n",
       "      <td>6.2</td>\n",
       "      <td>0.313</td>\n",
       "      <td>69.178416</td>\n",
       "      <td>reviewed</td>\n",
       "      <td>us</td>\n",
       "      <td>us</td>\n",
       "    </tr>\n",
       "    <tr>\n",
       "      <th>1</th>\n",
       "      <td>2013-08-03T00:56:15.280Z</td>\n",
       "      <td>34.5452</td>\n",
       "      <td>137.5490</td>\n",
       "      <td>33.12</td>\n",
       "      <td>5.1</td>\n",
       "      <td>mb</td>\n",
       "      <td>73.0</td>\n",
       "      <td>0.909</td>\n",
       "      <td>0.60</td>\n",
       "      <td>us</td>\n",
       "      <td>...</td>\n",
       "      <td>2022-07-25T19:34:58.463Z</td>\n",
       "      <td>24 km SW of Hamamatsu, Japan</td>\n",
       "      <td>earthquake</td>\n",
       "      <td>6.4</td>\n",
       "      <td>3.2</td>\n",
       "      <td>0.039</td>\n",
       "      <td>69.178416</td>\n",
       "      <td>reviewed</td>\n",
       "      <td>us</td>\n",
       "      <td>us</td>\n",
       "    </tr>\n",
       "    <tr>\n",
       "      <th>2</th>\n",
       "      <td>2013-08-04T03:28:50.810Z</td>\n",
       "      <td>38.2133</td>\n",
       "      <td>141.8621</td>\n",
       "      <td>56.00</td>\n",
       "      <td>5.8</td>\n",
       "      <td>mww</td>\n",
       "      <td>18.0</td>\n",
       "      <td>3.355</td>\n",
       "      <td>0.67</td>\n",
       "      <td>us</td>\n",
       "      <td>...</td>\n",
       "      <td>2022-07-25T19:40:11.276Z</td>\n",
       "      <td>54 km ESE of Ishinomaki, Japan</td>\n",
       "      <td>earthquake</td>\n",
       "      <td>6.4</td>\n",
       "      <td>1.7</td>\n",
       "      <td>0.079</td>\n",
       "      <td>69.178416</td>\n",
       "      <td>reviewed</td>\n",
       "      <td>us</td>\n",
       "      <td>us</td>\n",
       "    </tr>\n",
       "    <tr>\n",
       "      <th>3</th>\n",
       "      <td>2013-08-07T10:56:07.220Z</td>\n",
       "      <td>33.8869</td>\n",
       "      <td>141.6805</td>\n",
       "      <td>12.01</td>\n",
       "      <td>4.5</td>\n",
       "      <td>mb</td>\n",
       "      <td>119.0</td>\n",
       "      <td>1.739</td>\n",
       "      <td>0.64</td>\n",
       "      <td>us</td>\n",
       "      <td>...</td>\n",
       "      <td>2013-10-12T21:32:31.000Z</td>\n",
       "      <td>187 km SE of Katsuura, Japan</td>\n",
       "      <td>earthquake</td>\n",
       "      <td>6.4</td>\n",
       "      <td>4.3</td>\n",
       "      <td>0.090</td>\n",
       "      <td>69.178416</td>\n",
       "      <td>reviewed</td>\n",
       "      <td>us</td>\n",
       "      <td>us</td>\n",
       "    </tr>\n",
       "    <tr>\n",
       "      <th>4</th>\n",
       "      <td>2013-08-09T18:34:16.020Z</td>\n",
       "      <td>32.0400</td>\n",
       "      <td>141.3012</td>\n",
       "      <td>52.73</td>\n",
       "      <td>4.8</td>\n",
       "      <td>mb</td>\n",
       "      <td>92.0</td>\n",
       "      <td>1.651</td>\n",
       "      <td>0.98</td>\n",
       "      <td>us</td>\n",
       "      <td>...</td>\n",
       "      <td>2013-10-12T21:32:33.000Z</td>\n",
       "      <td>Izu Islands, Japan region</td>\n",
       "      <td>earthquake</td>\n",
       "      <td>6.4</td>\n",
       "      <td>6.0</td>\n",
       "      <td>0.075</td>\n",
       "      <td>69.178416</td>\n",
       "      <td>reviewed</td>\n",
       "      <td>us</td>\n",
       "      <td>us</td>\n",
       "    </tr>\n",
       "  </tbody>\n",
       "</table>\n",
       "<p>5 rows × 21 columns</p>\n",
       "</div>"
      ],
      "text/plain": [
       "                       time  latitude  longitude  depth  mag magType    gap  \\\n",
       "0  2013-08-01T11:13:27.290Z   35.2208   141.2459  34.44  4.5      mb  121.0   \n",
       "1  2013-08-03T00:56:15.280Z   34.5452   137.5490  33.12  5.1      mb   73.0   \n",
       "2  2013-08-04T03:28:50.810Z   38.2133   141.8621  56.00  5.8     mww   18.0   \n",
       "3  2013-08-07T10:56:07.220Z   33.8869   141.6805  12.01  4.5      mb  119.0   \n",
       "4  2013-08-09T18:34:16.020Z   32.0400   141.3012  52.73  4.8      mb   92.0   \n",
       "\n",
       "    dmin   rms net  ...                   updated  \\\n",
       "0  2.412  0.75  us  ...  2013-09-25T17:45:49.000Z   \n",
       "1  0.909  0.60  us  ...  2022-07-25T19:34:58.463Z   \n",
       "2  3.355  0.67  us  ...  2022-07-25T19:40:11.276Z   \n",
       "3  1.739  0.64  us  ...  2013-10-12T21:32:31.000Z   \n",
       "4  1.651  0.98  us  ...  2013-10-12T21:32:33.000Z   \n",
       "\n",
       "                            place        type horizontalError  depthError  \\\n",
       "0      68 km SSE of Hasaki, Japan  earthquake             6.4         6.2   \n",
       "1    24 km SW of Hamamatsu, Japan  earthquake             6.4         3.2   \n",
       "2  54 km ESE of Ishinomaki, Japan  earthquake             6.4         1.7   \n",
       "3    187 km SE of Katsuura, Japan  earthquake             6.4         4.3   \n",
       "4       Izu Islands, Japan region  earthquake             6.4         6.0   \n",
       "\n",
       "   magError     magNst    status locationSource magSource  \n",
       "0     0.313  69.178416  reviewed             us        us  \n",
       "1     0.039  69.178416  reviewed             us        us  \n",
       "2     0.079  69.178416  reviewed             us        us  \n",
       "3     0.090  69.178416  reviewed             us        us  \n",
       "4     0.075  69.178416  reviewed             us        us  \n",
       "\n",
       "[5 rows x 21 columns]"
      ]
     },
     "execution_count": 36,
     "metadata": {},
     "output_type": "execute_result"
    }
   ],
   "source": [
    "import pandas as pd\n",
    "import seaborn as sns\n",
    "import matplotlib.pyplot as plt \n",
    "%matplotlib inline\n",
    "df.head()"
   ]
  },
  {
   "cell_type": "code",
   "execution_count": 37,
   "id": "27718af3",
   "metadata": {},
   "outputs": [
    {
     "data": {
      "text/plain": [
       "(1927, 21)"
      ]
     },
     "execution_count": 37,
     "metadata": {},
     "output_type": "execute_result"
    }
   ],
   "source": [
    "df.shape"
   ]
  },
  {
   "cell_type": "code",
   "execution_count": 38,
   "id": "219673c9",
   "metadata": {},
   "outputs": [
    {
     "data": {
      "text/plain": [
       "<AxesSubplot:xlabel='mag', ylabel='Density'>"
      ]
     },
     "execution_count": 38,
     "metadata": {},
     "output_type": "execute_result"
    },
    {
     "data": {
      "image/png": "[encoded data removed]",
      "text/plain": [
       "<Figure size 640x480 with 1 Axes>"
      ]
     },
     "metadata": {},
     "output_type": "display_data"
    }
   ],
   "source": [
    "sns.kdeplot(x = \"mag\", data = df, shade = True)"
   ]
  },
  {
   "cell_type": "code",
   "execution_count": 39,
   "id": "6f15c146",
   "metadata": {},
   "outputs": [
    {
     "name": "stderr",
     "output_type": "stream",
     "text": [
      "/Users/megatron/opt/anaconda3/lib/python3.9/site-packages/seaborn/distributions.py:316: UserWarning: Dataset has 0 variance; skipping density estimate. Pass `warn_singular=False` to disable this warning.\n",
      "  warnings.warn(msg, UserWarning)\n"
     ]
    },
    {
     "data": {
      "text/plain": [
       "<AxesSubplot:xlabel='mag', ylabel='Density'>"
      ]
     },
     "execution_count": 39,
     "metadata": {},
     "output_type": "execute_result"
    },
    {
     "data": {
      "image/png": "[encoded data removed]",
      "text/plain": [
       "<Figure size 640x480 with 1 Axes>"
      ]
     },
     "metadata": {},
     "output_type": "display_data"
    }
   ],
   "source": [
    "sns.kdeplot(x = \"mag\", data = df, shade = True, hue = \"magType\")"
   ]
  },
  {
   "cell_type": "code",
   "execution_count": 40,
   "id": "5fa3e317",
   "metadata": {},
   "outputs": [
    {
     "data": {
      "text/plain": [
       "<AxesSubplot:xlabel='depth', ylabel='Density'>"
      ]
     },
     "execution_count": 40,
     "metadata": {},
     "output_type": "execute_result"
    },
    {
     "data": {
      "image/png": "[encoded data removed]",
      "text/plain": [
       "<Figure size 640x480 with 1 Axes>"
      ]
     },
     "metadata": {},
     "output_type": "display_data"
    }
   ],
   "source": [
    "sns.kdeplot(data = df[\"depth\"], shade = True)"
   ]
  },
  {
   "cell_type": "code",
   "execution_count": 41,
   "id": "a5cd9619",
   "metadata": {},
   "outputs": [
    {
     "name": "stderr",
     "output_type": "stream",
     "text": [
      "/Users/megatron/opt/anaconda3/lib/python3.9/site-packages/seaborn/distributions.py:316: UserWarning: Dataset has 0 variance; skipping density estimate. Pass `warn_singular=False` to disable this warning.\n",
      "  warnings.warn(msg, UserWarning)\n"
     ]
    },
    {
     "data": {
      "text/plain": [
       "<AxesSubplot:xlabel='depth', ylabel='Density'>"
      ]
     },
     "execution_count": 41,
     "metadata": {},
     "output_type": "execute_result"
    },
    {
     "data": {
      "image/png": "[encoded data removed]",
      "text/plain": [
       "<Figure size 640x480 with 1 Axes>"
      ]
     },
     "metadata": {},
     "output_type": "display_data"
    }
   ],
   "source": [
    "sns.kdeplot(x = \"depth\", data = df, shade = True, hue = \"magType\")"
   ]
  },
  {
   "cell_type": "code",
   "execution_count": 42,
   "id": "89201df1",
   "metadata": {},
   "outputs": [
    {
     "data": {
      "text/plain": [
       "<AxesSubplot:xlabel='rms', ylabel='Density'>"
      ]
     },
     "execution_count": 42,
     "metadata": {},
     "output_type": "execute_result"
    },
    {
     "data": {
      "image/png": "[encoded data removed]",
      "text/plain": [
       "<Figure size 640x480 with 1 Axes>"
      ]
     },
     "metadata": {},
     "output_type": "display_data"
    }
   ],
   "source": [
    "sns.kdeplot(data = df[\"rms\"], shade = True)"
   ]
  },
  {
   "cell_type": "code",
   "execution_count": 43,
   "id": "5c9fdbd4",
   "metadata": {},
   "outputs": [
    {
     "name": "stderr",
     "output_type": "stream",
     "text": [
      "/Users/megatron/opt/anaconda3/lib/python3.9/site-packages/seaborn/distributions.py:316: UserWarning: Dataset has 0 variance; skipping density estimate. Pass `warn_singular=False` to disable this warning.\n",
      "  warnings.warn(msg, UserWarning)\n"
     ]
    },
    {
     "data": {
      "text/plain": [
       "<AxesSubplot:xlabel='rms', ylabel='Density'>"
      ]
     },
     "execution_count": 43,
     "metadata": {},
     "output_type": "execute_result"
    },
    {
     "data": {
      "image/png": "[encoded data removed]",
      "text/plain": [
       "<Figure size 640x480 with 1 Axes>"
      ]
     },
     "metadata": {},
     "output_type": "display_data"
    }
   ],
   "source": [
    "sns.kdeplot(x = \"rms\", data = df, shade = True, hue = \"magType\")"
   ]
  },
  {
   "cell_type": "code",
   "execution_count": 44,
   "id": "1edfe9cb",
   "metadata": {},
   "outputs": [
    {
     "data": {
      "image/png": "[encoded data removed]",
      "text/plain": [
       "<Figure size 640x480 with 1 Axes>"
      ]
     },
     "metadata": {},
     "output_type": "display_data"
    }
   ],
   "source": [
    "import seaborn as sns\n",
    "sns.histplot(x = \"mag\", data = df);"
   ]
  },
  {
   "cell_type": "code",
   "execution_count": 45,
   "id": "bbdb69e0",
   "metadata": {},
   "outputs": [
    {
     "data": {
      "image/png": "[encoded data removed]",
      "text/plain": [
       "<Figure size 640x480 with 1 Axes>"
      ]
     },
     "metadata": {},
     "output_type": "display_data"
    }
   ],
   "source": [
    "sns.histplot(x = \"mag\", data = df, hue = \"magType\");"
   ]
  },
  {
   "cell_type": "code",
   "execution_count": 46,
   "id": "587f9188",
   "metadata": {},
   "outputs": [
    {
     "data": {
      "image/png": "[encoded data removed]",
      "text/plain": [
       "<Figure size 640x480 with 1 Axes>"
      ]
     },
     "metadata": {},
     "output_type": "display_data"
    }
   ],
   "source": [
    "sns.histplot(x = \"depth\", data = df);"
   ]
  },
  {
   "cell_type": "code",
   "execution_count": 47,
   "id": "f85694a8",
   "metadata": {},
   "outputs": [
    {
     "data": {
      "image/png": "[encoded data removed]",
      "text/plain": [
       "<Figure size 640x480 with 1 Axes>"
      ]
     },
     "metadata": {},
     "output_type": "display_data"
    }
   ],
   "source": [
    "sns.histplot(x = \"depth\", data = df, hue = \"magType\");"
   ]
  },
  {
   "cell_type": "code",
   "execution_count": 48,
   "id": "b7cf8fea",
   "metadata": {},
   "outputs": [
    {
     "data": {
      "image/png": "[encoded data removed]",
      "text/plain": [
       "<Figure size 640x480 with 1 Axes>"
      ]
     },
     "metadata": {},
     "output_type": "display_data"
    }
   ],
   "source": [
    "import random\n",
    "colorlist = ['red', 'yellow', 'orange', 'purple', 'blue']\n",
    "sns.boxplot(x = 'latitude', data = df, color = random.choice(colorlist)); # horizontal box plot"
   ]
  },
  {
   "cell_type": "code",
   "execution_count": 49,
   "id": "6ca1591c",
   "metadata": {},
   "outputs": [
    {
     "data": {
      "image/png": "[encoded data removed]",
      "text/plain": [
       "<Figure size 640x480 with 1 Axes>"
      ]
     },
     "metadata": {},
     "output_type": "display_data"
    }
   ],
   "source": [
    "import random\n",
    "colorlist = ['red', 'yellow', 'orange', 'purple', 'blue']\n",
    "sns.boxplot(x = 'longitude', data = df, color = random.choice(colorlist)); # horizontal box plot"
   ]
  },
  {
   "cell_type": "code",
   "execution_count": 50,
   "id": "5490cb58",
   "metadata": {},
   "outputs": [
    {
     "data": {
      "image/png": "[encoded data removed]",
      "text/plain": [
       "<Figure size 640x480 with 1 Axes>"
      ]
     },
     "metadata": {},
     "output_type": "display_data"
    }
   ],
   "source": [
    "import random\n",
    "colorlist = ['red', 'yellow', 'orange', 'purple', 'blue']\n",
    "sns.boxplot(x = 'depth', data = df, color = random.choice(colorlist)); # horizontal box plot"
   ]
  },
  {
   "cell_type": "code",
   "execution_count": 51,
   "id": "8b734c57",
   "metadata": {},
   "outputs": [
    {
     "data": {
      "image/png": "[encoded data removed]",
      "text/plain": [
       "<Figure size 640x480 with 1 Axes>"
      ]
     },
     "metadata": {},
     "output_type": "display_data"
    }
   ],
   "source": [
    "import random\n",
    "colorlist = ['red', 'yellow', 'orange', 'purple', 'blue']\n",
    "sns.boxplot(x = 'mag', data = df, color = random.choice(colorlist)); # horizontal box plot"
   ]
  },
  {
   "cell_type": "code",
   "execution_count": 52,
   "id": "7c45997e",
   "metadata": {},
   "outputs": [
    {
     "data": {
      "image/png": "[encoded data removed]",
      "text/plain": [
       "<Figure size 640x480 with 1 Axes>"
      ]
     },
     "metadata": {},
     "output_type": "display_data"
    }
   ],
   "source": [
    "import random\n",
    "colorlist = ['red', 'yellow', 'orange', 'purple', 'blue']\n",
    "sns.boxplot(x = 'gap', data = df, color = random.choice(colorlist)); # horizontal box plot"
   ]
  },
  {
   "cell_type": "code",
   "execution_count": 53,
   "id": "ad78808e",
   "metadata": {},
   "outputs": [
    {
     "data": {
      "image/png": "[encoded data removed]",
      "text/plain": [
       "<Figure size 640x480 with 1 Axes>"
      ]
     },
     "metadata": {},
     "output_type": "display_data"
    }
   ],
   "source": [
    "import random\n",
    "colorlist = ['red', 'yellow', 'orange', 'purple', 'blue']\n",
    "sns.boxplot(x = 'dmin', data = df, color = random.choice(colorlist)); # horizontal box plot"
   ]
  },
  {
   "cell_type": "code",
   "execution_count": 54,
   "id": "a2063a44",
   "metadata": {},
   "outputs": [
    {
     "data": {
      "image/png": "[encoded data removed]",
      "text/plain": [
       "<Figure size 640x480 with 1 Axes>"
      ]
     },
     "metadata": {},
     "output_type": "display_data"
    }
   ],
   "source": [
    "import random\n",
    "colorlist = ['red', 'yellow', 'orange', 'purple', 'blue']\n",
    "sns.boxplot(x = 'rms', data = df, color = random.choice(colorlist)); # horizontal box plot"
   ]
  },
  {
   "cell_type": "code",
   "execution_count": 55,
   "id": "bd89a4f9",
   "metadata": {},
   "outputs": [
    {
     "data": {
      "image/png": "[encoded data removed]",
      "text/plain": [
       "<Figure size 640x480 with 1 Axes>"
      ]
     },
     "metadata": {},
     "output_type": "display_data"
    }
   ],
   "source": [
    "import random\n",
    "colorlist = ['red', 'yellow', 'orange', 'purple', 'blue']\n",
    "sns.boxplot(x = 'horizontalError', data = df, color = random.choice(colorlist)); # horizontal box plot"
   ]
  },
  {
   "cell_type": "code",
   "execution_count": 56,
   "id": "fb0dad84",
   "metadata": {},
   "outputs": [
    {
     "data": {
      "image/png": "[encoded data removed]",
      "text/plain": [
       "<Figure size 640x480 with 1 Axes>"
      ]
     },
     "metadata": {},
     "output_type": "display_data"
    }
   ],
   "source": [
    "import random\n",
    "colorlist = ['red', 'yellow', 'orange', 'purple', 'blue']\n",
    "sns.boxplot(y = 'depthError', data = df, color = random.choice(colorlist)); # vertical box plot"
   ]
  },
  {
   "cell_type": "code",
   "execution_count": 57,
   "id": "8655a9e7",
   "metadata": {},
   "outputs": [
    {
     "data": {
      "image/png": "[encoded data removed]",
      "text/plain": [
       "<Figure size 640x480 with 1 Axes>"
      ]
     },
     "metadata": {},
     "output_type": "display_data"
    }
   ],
   "source": [
    "import random\n",
    "colorlist = ['red', 'yellow', 'orange', 'purple', 'blue']\n",
    "sns.boxplot(x = 'magError', data = df, color = random.choice(colorlist)); # horizontal box plot"
   ]
  },
  {
   "cell_type": "code",
   "execution_count": 58,
   "id": "cca75e62",
   "metadata": {},
   "outputs": [],
   "source": [
    "#outlier detection & IQR\n",
    "def findOutliers(df):\n",
    "    outliers = []\n",
    "    Q2 = df.median()\n",
    "    Q1 = df.describe()[4]\n",
    "    Q3 = df.describe()[6]\n",
    "    \n",
    "    # Q1 = dataset.quantile(0.25)\n",
    "    # Q3 = dataset.quantile(0.75)\n",
    "    \n",
    "    # \n",
    "    \n",
    "    IQR = Q3 - Q1\n",
    "    lf = Q1 - 1.5*IQR # lf = lower fence\n",
    "    uf = Q3 + 1.5*IQR # Uf = Upper fence\n",
    "    for x in df:\n",
    "        if x < lf or x > uf:\n",
    "            outliers.append(x)\n",
    "    return outliers"
   ]
  },
  {
   "cell_type": "code",
   "execution_count": 59,
   "id": "59afd195",
   "metadata": {},
   "outputs": [
    {
     "data": {
      "text/html": [
       "<div>\n",
       "<style scoped>\n",
       "    .dataframe tbody tr th:only-of-type {\n",
       "        vertical-align: middle;\n",
       "    }\n",
       "\n",
       "    .dataframe tbody tr th {\n",
       "        vertical-align: top;\n",
       "    }\n",
       "\n",
       "    .dataframe thead th {\n",
       "        text-align: right;\n",
       "    }\n",
       "</style>\n",
       "<table border=\"1\" class=\"dataframe\">\n",
       "  <thead>\n",
       "    <tr style=\"text-align: right;\">\n",
       "      <th></th>\n",
       "      <th>latitude</th>\n",
       "      <th>longitude</th>\n",
       "      <th>depth</th>\n",
       "      <th>mag</th>\n",
       "      <th>gap</th>\n",
       "      <th>dmin</th>\n",
       "      <th>rms</th>\n",
       "      <th>horizontalError</th>\n",
       "      <th>depthError</th>\n",
       "      <th>magError</th>\n",
       "      <th>magNst</th>\n",
       "    </tr>\n",
       "  </thead>\n",
       "  <tbody>\n",
       "    <tr>\n",
       "      <th>count</th>\n",
       "      <td>1927.000000</td>\n",
       "      <td>1927.000000</td>\n",
       "      <td>1927.000000</td>\n",
       "      <td>1927.000000</td>\n",
       "      <td>1927.000000</td>\n",
       "      <td>1927.000000</td>\n",
       "      <td>1927.000000</td>\n",
       "      <td>1927.000000</td>\n",
       "      <td>1927.000000</td>\n",
       "      <td>1927.000000</td>\n",
       "      <td>1927.000000</td>\n",
       "    </tr>\n",
       "    <tr>\n",
       "      <th>mean</th>\n",
       "      <td>35.424921</td>\n",
       "      <td>139.748156</td>\n",
       "      <td>51.375858</td>\n",
       "      <td>4.755734</td>\n",
       "      <td>101.642449</td>\n",
       "      <td>1.532638</td>\n",
       "      <td>0.806051</td>\n",
       "      <td>6.308651</td>\n",
       "      <td>4.713290</td>\n",
       "      <td>0.092955</td>\n",
       "      <td>68.322361</td>\n",
       "    </tr>\n",
       "    <tr>\n",
       "      <th>std</th>\n",
       "      <td>2.476123</td>\n",
       "      <td>3.174032</td>\n",
       "      <td>65.086746</td>\n",
       "      <td>0.341895</td>\n",
       "      <td>36.803135</td>\n",
       "      <td>0.953505</td>\n",
       "      <td>0.226651</td>\n",
       "      <td>1.535590</td>\n",
       "      <td>2.296327</td>\n",
       "      <td>0.053823</td>\n",
       "      <td>83.541081</td>\n",
       "    </tr>\n",
       "    <tr>\n",
       "      <th>min</th>\n",
       "      <td>30.928100</td>\n",
       "      <td>130.279800</td>\n",
       "      <td>1.610000</td>\n",
       "      <td>4.500000</td>\n",
       "      <td>10.000000</td>\n",
       "      <td>0.038000</td>\n",
       "      <td>0.190000</td>\n",
       "      <td>1.500000</td>\n",
       "      <td>0.600000</td>\n",
       "      <td>0.021000</td>\n",
       "      <td>2.000000</td>\n",
       "    </tr>\n",
       "    <tr>\n",
       "      <th>25%</th>\n",
       "      <td>33.288900</td>\n",
       "      <td>139.853050</td>\n",
       "      <td>12.190000</td>\n",
       "      <td>4.500000</td>\n",
       "      <td>77.000000</td>\n",
       "      <td>0.821000</td>\n",
       "      <td>0.650000</td>\n",
       "      <td>5.500000</td>\n",
       "      <td>2.000000</td>\n",
       "      <td>0.058000</td>\n",
       "      <td>19.000000</td>\n",
       "    </tr>\n",
       "    <tr>\n",
       "      <th>50%</th>\n",
       "      <td>35.722500</td>\n",
       "      <td>141.061100</td>\n",
       "      <td>37.550000</td>\n",
       "      <td>4.600000</td>\n",
       "      <td>110.000000</td>\n",
       "      <td>1.428000</td>\n",
       "      <td>0.790000</td>\n",
       "      <td>6.400000</td>\n",
       "      <td>4.900000</td>\n",
       "      <td>0.079000</td>\n",
       "      <td>38.000000</td>\n",
       "    </tr>\n",
       "    <tr>\n",
       "      <th>75%</th>\n",
       "      <td>37.223250</td>\n",
       "      <td>141.656800</td>\n",
       "      <td>57.040000</td>\n",
       "      <td>4.800000</td>\n",
       "      <td>127.000000</td>\n",
       "      <td>2.099500</td>\n",
       "      <td>0.940000</td>\n",
       "      <td>7.135000</td>\n",
       "      <td>6.361000</td>\n",
       "      <td>0.113000</td>\n",
       "      <td>74.000000</td>\n",
       "    </tr>\n",
       "    <tr>\n",
       "      <th>max</th>\n",
       "      <td>42.016600</td>\n",
       "      <td>142.030800</td>\n",
       "      <td>545.000000</td>\n",
       "      <td>7.300000</td>\n",
       "      <td>254.000000</td>\n",
       "      <td>19.725000</td>\n",
       "      <td>1.510000</td>\n",
       "      <td>12.300000</td>\n",
       "      <td>13.300000</td>\n",
       "      <td>0.558000</td>\n",
       "      <td>761.000000</td>\n",
       "    </tr>\n",
       "  </tbody>\n",
       "</table>\n",
       "</div>"
      ],
      "text/plain": [
       "          latitude    longitude        depth          mag          gap  \\\n",
       "count  1927.000000  1927.000000  1927.000000  1927.000000  1927.000000   \n",
       "mean     35.424921   139.748156    51.375858     4.755734   101.642449   \n",
       "std       2.476123     3.174032    65.086746     0.341895    36.803135   \n",
       "min      30.928100   130.279800     1.610000     4.500000    10.000000   \n",
       "25%      33.288900   139.853050    12.190000     4.500000    77.000000   \n",
       "50%      35.722500   141.061100    37.550000     4.600000   110.000000   \n",
       "75%      37.223250   141.656800    57.040000     4.800000   127.000000   \n",
       "max      42.016600   142.030800   545.000000     7.300000   254.000000   \n",
       "\n",
       "              dmin          rms  horizontalError   depthError     magError  \\\n",
       "count  1927.000000  1927.000000      1927.000000  1927.000000  1927.000000   \n",
       "mean      1.532638     0.806051         6.308651     4.713290     0.092955   \n",
       "std       0.953505     0.226651         1.535590     2.296327     0.053823   \n",
       "min       0.038000     0.190000         1.500000     0.600000     0.021000   \n",
       "25%       0.821000     0.650000         5.500000     2.000000     0.058000   \n",
       "50%       1.428000     0.790000         6.400000     4.900000     0.079000   \n",
       "75%       2.099500     0.940000         7.135000     6.361000     0.113000   \n",
       "max      19.725000     1.510000        12.300000    13.300000     0.558000   \n",
       "\n",
       "            magNst  \n",
       "count  1927.000000  \n",
       "mean     68.322361  \n",
       "std      83.541081  \n",
       "min       2.000000  \n",
       "25%      19.000000  \n",
       "50%      38.000000  \n",
       "75%      74.000000  \n",
       "max     761.000000  "
      ]
     },
     "execution_count": 59,
     "metadata": {},
     "output_type": "execute_result"
    }
   ],
   "source": [
    "df.describe()"
   ]
  },
  {
   "cell_type": "code",
   "execution_count": 60,
   "id": "d4acd828",
   "metadata": {},
   "outputs": [
    {
     "data": {
      "text/plain": [
       "33.2889"
      ]
     },
     "execution_count": 60,
     "metadata": {},
     "output_type": "execute_result"
    }
   ],
   "source": [
    "df['latitude'].quantile(0.25)"
   ]
  },
  {
   "cell_type": "code",
   "execution_count": 61,
   "id": "a9266dcf",
   "metadata": {},
   "outputs": [
    {
     "data": {
      "text/plain": [
       "37.22325"
      ]
     },
     "execution_count": 61,
     "metadata": {},
     "output_type": "execute_result"
    }
   ],
   "source": [
    "df['latitude'].quantile(0.75)"
   ]
  },
  {
   "cell_type": "code",
   "execution_count": 62,
   "id": "c77212ea",
   "metadata": {},
   "outputs": [
    {
     "data": {
      "text/plain": [
       "139.85305"
      ]
     },
     "execution_count": 62,
     "metadata": {},
     "output_type": "execute_result"
    }
   ],
   "source": [
    "df['longitude'].quantile(0.25)"
   ]
  },
  {
   "cell_type": "code",
   "execution_count": 63,
   "id": "ec7ddb87",
   "metadata": {},
   "outputs": [
    {
     "data": {
      "text/plain": [
       "141.6568"
      ]
     },
     "execution_count": 63,
     "metadata": {},
     "output_type": "execute_result"
    }
   ],
   "source": [
    "df['longitude'].quantile(0.75)"
   ]
  },
  {
   "cell_type": "code",
   "execution_count": 64,
   "id": "f2d973d7",
   "metadata": {},
   "outputs": [
    {
     "data": {
      "text/plain": [
       "12.19"
      ]
     },
     "execution_count": 64,
     "metadata": {},
     "output_type": "execute_result"
    }
   ],
   "source": [
    "df['depth'].quantile(0.25)"
   ]
  },
  {
   "cell_type": "code",
   "execution_count": 65,
   "id": "b04daba2",
   "metadata": {},
   "outputs": [
    {
     "data": {
      "text/plain": [
       "57.04"
      ]
     },
     "execution_count": 65,
     "metadata": {},
     "output_type": "execute_result"
    }
   ],
   "source": [
    "df['depth'].quantile(0.75)"
   ]
  },
  {
   "cell_type": "code",
   "execution_count": 66,
   "id": "b8cfab2e",
   "metadata": {},
   "outputs": [
    {
     "data": {
      "text/plain": [
       "4.5"
      ]
     },
     "execution_count": 66,
     "metadata": {},
     "output_type": "execute_result"
    }
   ],
   "source": [
    "df['mag'].quantile(0.25)"
   ]
  },
  {
   "cell_type": "code",
   "execution_count": 67,
   "id": "66e4d21b",
   "metadata": {},
   "outputs": [
    {
     "data": {
      "text/plain": [
       "4.8"
      ]
     },
     "execution_count": 67,
     "metadata": {},
     "output_type": "execute_result"
    }
   ],
   "source": [
    "df['mag'].quantile(0.75)"
   ]
  },
  {
   "cell_type": "code",
   "execution_count": 68,
   "id": "5a601469",
   "metadata": {},
   "outputs": [
    {
     "data": {
      "text/plain": [
       "77.0"
      ]
     },
     "execution_count": 68,
     "metadata": {},
     "output_type": "execute_result"
    }
   ],
   "source": [
    "df['gap'].quantile(0.25)"
   ]
  },
  {
   "cell_type": "code",
   "execution_count": 69,
   "id": "e2e6c7bd",
   "metadata": {},
   "outputs": [
    {
     "data": {
      "text/plain": [
       "127.0"
      ]
     },
     "execution_count": 69,
     "metadata": {},
     "output_type": "execute_result"
    }
   ],
   "source": [
    "df['gap'].quantile(0.75)"
   ]
  },
  {
   "cell_type": "code",
   "execution_count": 70,
   "id": "a796732e",
   "metadata": {},
   "outputs": [
    {
     "data": {
      "text/plain": [
       "0.821"
      ]
     },
     "execution_count": 70,
     "metadata": {},
     "output_type": "execute_result"
    }
   ],
   "source": [
    "df['dmin'].quantile(0.25)"
   ]
  },
  {
   "cell_type": "code",
   "execution_count": 71,
   "id": "c03492eb",
   "metadata": {},
   "outputs": [
    {
     "data": {
      "text/plain": [
       "2.0995"
      ]
     },
     "execution_count": 71,
     "metadata": {},
     "output_type": "execute_result"
    }
   ],
   "source": [
    "df['dmin'].quantile(0.75)"
   ]
  },
  {
   "cell_type": "code",
   "execution_count": 72,
   "id": "0841289f",
   "metadata": {},
   "outputs": [
    {
     "data": {
      "text/plain": [
       "0.65"
      ]
     },
     "execution_count": 72,
     "metadata": {},
     "output_type": "execute_result"
    }
   ],
   "source": [
    "df['rms'].quantile(0.25)"
   ]
  },
  {
   "cell_type": "code",
   "execution_count": 73,
   "id": "3c5b4a66",
   "metadata": {},
   "outputs": [
    {
     "data": {
      "text/plain": [
       "0.94"
      ]
     },
     "execution_count": 73,
     "metadata": {},
     "output_type": "execute_result"
    }
   ],
   "source": [
    "df['rms'].quantile(0.75)"
   ]
  },
  {
   "cell_type": "code",
   "execution_count": 74,
   "id": "5211d2af",
   "metadata": {},
   "outputs": [
    {
     "data": {
      "text/plain": [
       "5.5"
      ]
     },
     "execution_count": 74,
     "metadata": {},
     "output_type": "execute_result"
    }
   ],
   "source": [
    "df['horizontalError'].quantile(0.25)"
   ]
  },
  {
   "cell_type": "code",
   "execution_count": 75,
   "id": "88754441",
   "metadata": {},
   "outputs": [
    {
     "data": {
      "text/plain": [
       "7.135"
      ]
     },
     "execution_count": 75,
     "metadata": {},
     "output_type": "execute_result"
    }
   ],
   "source": [
    "df['horizontalError'].quantile(0.75)"
   ]
  },
  {
   "cell_type": "code",
   "execution_count": 76,
   "id": "44f0a1ad",
   "metadata": {},
   "outputs": [
    {
     "data": {
      "text/plain": [
       "2.0"
      ]
     },
     "execution_count": 76,
     "metadata": {},
     "output_type": "execute_result"
    }
   ],
   "source": [
    "df['depthError'].quantile(0.25)"
   ]
  },
  {
   "cell_type": "code",
   "execution_count": 77,
   "id": "2659188d",
   "metadata": {},
   "outputs": [
    {
     "data": {
      "text/plain": [
       "6.361000000000001"
      ]
     },
     "execution_count": 77,
     "metadata": {},
     "output_type": "execute_result"
    }
   ],
   "source": [
    "df['depthError'].quantile(0.75)"
   ]
  },
  {
   "cell_type": "code",
   "execution_count": 78,
   "id": "797608d4",
   "metadata": {},
   "outputs": [
    {
     "data": {
      "text/plain": [
       "0.058"
      ]
     },
     "execution_count": 78,
     "metadata": {},
     "output_type": "execute_result"
    }
   ],
   "source": [
    "df['magError'].quantile(0.25)"
   ]
  },
  {
   "cell_type": "code",
   "execution_count": 79,
   "id": "6ca94e36",
   "metadata": {},
   "outputs": [
    {
     "data": {
      "text/plain": [
       "0.113"
      ]
     },
     "execution_count": 79,
     "metadata": {},
     "output_type": "execute_result"
    }
   ],
   "source": [
    "df['magError'].quantile(0.75)"
   ]
  },
  {
   "cell_type": "code",
   "execution_count": 80,
   "id": "f2338589",
   "metadata": {},
   "outputs": [
    {
     "name": "stderr",
     "output_type": "stream",
     "text": [
      "/Users/megatron/opt/anaconda3/lib/python3.9/site-packages/seaborn/categorical.py:1296: UserWarning: 74.4% of the points cannot be placed; you may want to decrease the size of the markers or use stripplot.\n",
      "  warnings.warn(msg, UserWarning)\n"
     ]
    },
    {
     "data": {
      "text/plain": [
       "<AxesSubplot:xlabel='mag'>"
      ]
     },
     "execution_count": 80,
     "metadata": {},
     "output_type": "execute_result"
    },
    {
     "data": {
      "image/png": "[encoded data removed]",
      "text/plain": [
       "<Figure size 640x480 with 1 Axes>"
      ]
     },
     "metadata": {},
     "output_type": "display_data"
    }
   ],
   "source": [
    "sns.swarmplot(x = 'mag', data = df)"
   ]
  },
  {
   "cell_type": "code",
   "execution_count": 81,
   "id": "c941cd73",
   "metadata": {},
   "outputs": [
    {
     "name": "stderr",
     "output_type": "stream",
     "text": [
      "/Users/megatron/opt/anaconda3/lib/python3.9/site-packages/seaborn/categorical.py:1296: UserWarning: 93.2% of the points cannot be placed; you may want to decrease the size of the markers or use stripplot.\n",
      "  warnings.warn(msg, UserWarning)\n",
      "/Users/megatron/opt/anaconda3/lib/python3.9/site-packages/seaborn/categorical.py:1296: UserWarning: 39.4% of the points cannot be placed; you may want to decrease the size of the markers or use stripplot.\n",
      "  warnings.warn(msg, UserWarning)\n",
      "/Users/megatron/opt/anaconda3/lib/python3.9/site-packages/seaborn/categorical.py:1296: UserWarning: 36.0% of the points cannot be placed; you may want to decrease the size of the markers or use stripplot.\n",
      "  warnings.warn(msg, UserWarning)\n"
     ]
    },
    {
     "data": {
      "text/plain": [
       "<AxesSubplot:xlabel='magType', ylabel='mag'>"
      ]
     },
     "execution_count": 81,
     "metadata": {},
     "output_type": "execute_result"
    },
    {
     "data": {
      "image/png": "[encoded data removed]",
      "text/plain": [
       "<Figure size 640x480 with 1 Axes>"
      ]
     },
     "metadata": {},
     "output_type": "display_data"
    }
   ],
   "source": [
    "sns.swarmplot(x = 'magType', y = 'mag', data = df)"
   ]
  },
  {
   "cell_type": "code",
   "execution_count": 82,
   "id": "409a4e0b",
   "metadata": {
    "scrolled": false
   },
   "outputs": [
    {
     "data": {
      "text/plain": [
       "<AxesSubplot:xlabel='magType', ylabel='mag'>"
      ]
     },
     "execution_count": 82,
     "metadata": {},
     "output_type": "execute_result"
    },
    {
     "data": {
      "image/png": "[encoded data removed]",
      "text/plain": [
       "<Figure size 640x480 with 1 Axes>"
      ]
     },
     "metadata": {},
     "output_type": "display_data"
    }
   ],
   "source": [
    "sns.stripplot(x = 'magType', y = 'mag', data = df)"
   ]
  },
  {
   "cell_type": "markdown",
   "id": "36389750",
   "metadata": {},
   "source": [
    "# Model Training"
   ]
  },
  {
   "cell_type": "code",
   "execution_count": 83,
   "id": "2ec8b869",
   "metadata": {},
   "outputs": [],
   "source": [
    "#Packages / libraries\n",
    "#import os #provides functions for interacting with the operating system\n",
    "import numpy as np \n",
    "import pandas as pd\n",
    "from matplotlib import pyplot as plt\n",
    "import seaborn as sns\n",
    "\n",
    "%matplotlib inline \n",
    "#make the plot outputs appear and be stored within the notebook\n",
    "\n",
    "# To install sklearn type \"pip install numpy scipy scikit-learn\" to the Anaconda terminal\n",
    "\n",
    "# To change scientific numbers to float\n",
    "np.set_printoptions(formatter={'float_kind':'{:f}'.format})\n",
    "\n",
    "# Increases the size of sns plots\n",
    "sns.set(rc={'figure.figsize':(8,6)})\n",
    "\n",
    "# Datetime lib\n",
    "from pandas import to_datetime\n",
    "import itertools\n",
    "import warnings\n",
    "import datetime\n",
    "warnings.filterwarnings('ignore')\n",
    "\n",
    "from sklearn.preprocessing import MinMaxScaler\n",
    "from sklearn.model_selection import train_test_split\n",
    "from sklearn import tree # used to visualize the decision tree model\n",
    "from sklearn.tree import DecisionTreeClassifier, export_graphviz\n",
    "from sklearn.metrics import accuracy_score, confusion_matrix, r2_score\n",
    "\n",
    "# pip install graphviz\n",
    "# conda install python-graphviz"
   ]
  },
  {
   "cell_type": "code",
   "execution_count": 84,
   "id": "1754ad54",
   "metadata": {},
   "outputs": [
    {
     "name": "stdout",
     "output_type": "stream",
     "text": [
      "(2013, 22)\n"
     ]
    },
    {
     "data": {
      "text/html": [
       "<div>\n",
       "<style scoped>\n",
       "    .dataframe tbody tr th:only-of-type {\n",
       "        vertical-align: middle;\n",
       "    }\n",
       "\n",
       "    .dataframe tbody tr th {\n",
       "        vertical-align: top;\n",
       "    }\n",
       "\n",
       "    .dataframe thead th {\n",
       "        text-align: right;\n",
       "    }\n",
       "</style>\n",
       "<table border=\"1\" class=\"dataframe\">\n",
       "  <thead>\n",
       "    <tr style=\"text-align: right;\">\n",
       "      <th></th>\n",
       "      <th>time</th>\n",
       "      <th>latitude</th>\n",
       "      <th>longitude</th>\n",
       "      <th>depth</th>\n",
       "      <th>mag</th>\n",
       "      <th>magType</th>\n",
       "      <th>nst</th>\n",
       "      <th>gap</th>\n",
       "      <th>dmin</th>\n",
       "      <th>rms</th>\n",
       "      <th>...</th>\n",
       "      <th>updated</th>\n",
       "      <th>place</th>\n",
       "      <th>type</th>\n",
       "      <th>horizontalError</th>\n",
       "      <th>depthError</th>\n",
       "      <th>magError</th>\n",
       "      <th>magNst</th>\n",
       "      <th>status</th>\n",
       "      <th>locationSource</th>\n",
       "      <th>magSource</th>\n",
       "    </tr>\n",
       "  </thead>\n",
       "  <tbody>\n",
       "    <tr>\n",
       "      <th>0</th>\n",
       "      <td>2013-03-16T17:24:55.350Z</td>\n",
       "      <td>36.123</td>\n",
       "      <td>141.594</td>\n",
       "      <td>41.8</td>\n",
       "      <td>4.9</td>\n",
       "      <td>mb</td>\n",
       "      <td>281.0</td>\n",
       "      <td>64.9</td>\n",
       "      <td>NaN</td>\n",
       "      <td>0.88</td>\n",
       "      <td>...</td>\n",
       "      <td>2014-11-07T01:50:21.073Z</td>\n",
       "      <td>81 km ENE of Hasaki, Japan</td>\n",
       "      <td>earthquake</td>\n",
       "      <td>NaN</td>\n",
       "      <td>4.8</td>\n",
       "      <td>NaN</td>\n",
       "      <td>224.0</td>\n",
       "      <td>reviewed</td>\n",
       "      <td>us</td>\n",
       "      <td>us</td>\n",
       "    </tr>\n",
       "    <tr>\n",
       "      <th>1</th>\n",
       "      <td>2013-03-17T21:53:39.150Z</td>\n",
       "      <td>36.435</td>\n",
       "      <td>140.592</td>\n",
       "      <td>58.6</td>\n",
       "      <td>4.6</td>\n",
       "      <td>mb</td>\n",
       "      <td>101.0</td>\n",
       "      <td>111.9</td>\n",
       "      <td>NaN</td>\n",
       "      <td>0.95</td>\n",
       "      <td>...</td>\n",
       "      <td>2022-07-24T21:03:00.695Z</td>\n",
       "      <td>4 km SSE of Funaishikawa, Japan</td>\n",
       "      <td>earthquake</td>\n",
       "      <td>NaN</td>\n",
       "      <td>5.0</td>\n",
       "      <td>NaN</td>\n",
       "      <td>59.0</td>\n",
       "      <td>reviewed</td>\n",
       "      <td>us</td>\n",
       "      <td>us</td>\n",
       "    </tr>\n",
       "    <tr>\n",
       "      <th>2</th>\n",
       "      <td>2013-03-21T05:34:33.950Z</td>\n",
       "      <td>36.724</td>\n",
       "      <td>140.357</td>\n",
       "      <td>71.9</td>\n",
       "      <td>4.7</td>\n",
       "      <td>mb</td>\n",
       "      <td>187.0</td>\n",
       "      <td>61.4</td>\n",
       "      <td>NaN</td>\n",
       "      <td>0.87</td>\n",
       "      <td>...</td>\n",
       "      <td>2022-07-24T21:17:54.312Z</td>\n",
       "      <td>4 km S of Daigo, Japan</td>\n",
       "      <td>earthquake</td>\n",
       "      <td>NaN</td>\n",
       "      <td>NaN</td>\n",
       "      <td>NaN</td>\n",
       "      <td>125.0</td>\n",
       "      <td>reviewed</td>\n",
       "      <td>us</td>\n",
       "      <td>us</td>\n",
       "    </tr>\n",
       "    <tr>\n",
       "      <th>3</th>\n",
       "      <td>2013-03-21T22:20:37.210Z</td>\n",
       "      <td>37.648</td>\n",
       "      <td>141.666</td>\n",
       "      <td>53.9</td>\n",
       "      <td>4.6</td>\n",
       "      <td>mb</td>\n",
       "      <td>55.0</td>\n",
       "      <td>118.4</td>\n",
       "      <td>NaN</td>\n",
       "      <td>0.86</td>\n",
       "      <td>...</td>\n",
       "      <td>2014-11-07T01:50:22.315Z</td>\n",
       "      <td>61 km ENE of Namie, Japan</td>\n",
       "      <td>earthquake</td>\n",
       "      <td>NaN</td>\n",
       "      <td>5.6</td>\n",
       "      <td>NaN</td>\n",
       "      <td>14.0</td>\n",
       "      <td>reviewed</td>\n",
       "      <td>us</td>\n",
       "      <td>us</td>\n",
       "    </tr>\n",
       "    <tr>\n",
       "      <th>4</th>\n",
       "      <td>2013-03-26T09:59:13.000Z</td>\n",
       "      <td>33.707</td>\n",
       "      <td>140.593</td>\n",
       "      <td>67.8</td>\n",
       "      <td>4.5</td>\n",
       "      <td>mb</td>\n",
       "      <td>75.0</td>\n",
       "      <td>99.0</td>\n",
       "      <td>NaN</td>\n",
       "      <td>0.73</td>\n",
       "      <td>...</td>\n",
       "      <td>2014-11-07T01:50:23.404Z</td>\n",
       "      <td>156 km SSE of Tateyama, Japan</td>\n",
       "      <td>earthquake</td>\n",
       "      <td>NaN</td>\n",
       "      <td>5.0</td>\n",
       "      <td>NaN</td>\n",
       "      <td>50.0</td>\n",
       "      <td>reviewed</td>\n",
       "      <td>us</td>\n",
       "      <td>us</td>\n",
       "    </tr>\n",
       "  </tbody>\n",
       "</table>\n",
       "<p>5 rows × 22 columns</p>\n",
       "</div>"
      ],
      "text/plain": [
       "                       time  latitude  longitude  depth  mag magType    nst  \\\n",
       "0  2013-03-16T17:24:55.350Z    36.123    141.594   41.8  4.9      mb  281.0   \n",
       "1  2013-03-17T21:53:39.150Z    36.435    140.592   58.6  4.6      mb  101.0   \n",
       "2  2013-03-21T05:34:33.950Z    36.724    140.357   71.9  4.7      mb  187.0   \n",
       "3  2013-03-21T22:20:37.210Z    37.648    141.666   53.9  4.6      mb   55.0   \n",
       "4  2013-03-26T09:59:13.000Z    33.707    140.593   67.8  4.5      mb   75.0   \n",
       "\n",
       "     gap  dmin   rms  ...                   updated  \\\n",
       "0   64.9   NaN  0.88  ...  2014-11-07T01:50:21.073Z   \n",
       "1  111.9   NaN  0.95  ...  2022-07-24T21:03:00.695Z   \n",
       "2   61.4   NaN  0.87  ...  2022-07-24T21:17:54.312Z   \n",
       "3  118.4   NaN  0.86  ...  2014-11-07T01:50:22.315Z   \n",
       "4   99.0   NaN  0.73  ...  2014-11-07T01:50:23.404Z   \n",
       "\n",
       "                             place        type horizontalError depthError  \\\n",
       "0       81 km ENE of Hasaki, Japan  earthquake             NaN        4.8   \n",
       "1  4 km SSE of Funaishikawa, Japan  earthquake             NaN        5.0   \n",
       "2           4 km S of Daigo, Japan  earthquake             NaN        NaN   \n",
       "3        61 km ENE of Namie, Japan  earthquake             NaN        5.6   \n",
       "4    156 km SSE of Tateyama, Japan  earthquake             NaN        5.0   \n",
       "\n",
       "   magError  magNst    status  locationSource magSource  \n",
       "0       NaN   224.0  reviewed              us        us  \n",
       "1       NaN    59.0  reviewed              us        us  \n",
       "2       NaN   125.0  reviewed              us        us  \n",
       "3       NaN    14.0  reviewed              us        us  \n",
       "4       NaN    50.0  reviewed              us        us  \n",
       "\n",
       "[5 rows x 22 columns]"
      ]
     },
     "execution_count": 84,
     "metadata": {},
     "output_type": "execute_result"
    }
   ],
   "source": [
    "raw_data = pd.read_csv('query2.csv') # raw_data is the panda's dataframe\n",
    "\n",
    "# print the shape\n",
    "print(raw_data.shape)\n",
    "\n",
    "#runs the first 5 rows\n",
    "raw_data.head()"
   ]
  },
  {
   "cell_type": "code",
   "execution_count": 85,
   "id": "5ed516b5",
   "metadata": {},
   "outputs": [
    {
     "data": {
      "text/html": [
       "<div>\n",
       "<style scoped>\n",
       "    .dataframe tbody tr th:only-of-type {\n",
       "        vertical-align: middle;\n",
       "    }\n",
       "\n",
       "    .dataframe tbody tr th {\n",
       "        vertical-align: top;\n",
       "    }\n",
       "\n",
       "    .dataframe thead th {\n",
       "        text-align: right;\n",
       "    }\n",
       "</style>\n",
       "<table border=\"1\" class=\"dataframe\">\n",
       "  <thead>\n",
       "    <tr style=\"text-align: right;\">\n",
       "      <th></th>\n",
       "      <th>latitude</th>\n",
       "      <th>longitude</th>\n",
       "      <th>depth</th>\n",
       "      <th>mag</th>\n",
       "      <th>gap</th>\n",
       "      <th>dmin</th>\n",
       "      <th>rms</th>\n",
       "      <th>horizontalError</th>\n",
       "      <th>depthError</th>\n",
       "      <th>magError</th>\n",
       "      <th>magNst</th>\n",
       "    </tr>\n",
       "  </thead>\n",
       "  <tbody>\n",
       "    <tr>\n",
       "      <th>count</th>\n",
       "      <td>1927.000000</td>\n",
       "      <td>1927.000000</td>\n",
       "      <td>1927.000000</td>\n",
       "      <td>1927.000000</td>\n",
       "      <td>1927.000000</td>\n",
       "      <td>1927.000000</td>\n",
       "      <td>1927.000000</td>\n",
       "      <td>1927.000000</td>\n",
       "      <td>1927.000000</td>\n",
       "      <td>1927.000000</td>\n",
       "      <td>1927.000000</td>\n",
       "    </tr>\n",
       "    <tr>\n",
       "      <th>mean</th>\n",
       "      <td>35.424921</td>\n",
       "      <td>139.748156</td>\n",
       "      <td>51.375858</td>\n",
       "      <td>4.755734</td>\n",
       "      <td>101.642449</td>\n",
       "      <td>1.532638</td>\n",
       "      <td>0.806051</td>\n",
       "      <td>6.308651</td>\n",
       "      <td>4.713290</td>\n",
       "      <td>0.092955</td>\n",
       "      <td>68.322361</td>\n",
       "    </tr>\n",
       "    <tr>\n",
       "      <th>std</th>\n",
       "      <td>2.476123</td>\n",
       "      <td>3.174032</td>\n",
       "      <td>65.086746</td>\n",
       "      <td>0.341895</td>\n",
       "      <td>36.803135</td>\n",
       "      <td>0.953505</td>\n",
       "      <td>0.226651</td>\n",
       "      <td>1.535590</td>\n",
       "      <td>2.296327</td>\n",
       "      <td>0.053823</td>\n",
       "      <td>83.541081</td>\n",
       "    </tr>\n",
       "    <tr>\n",
       "      <th>min</th>\n",
       "      <td>30.928100</td>\n",
       "      <td>130.279800</td>\n",
       "      <td>1.610000</td>\n",
       "      <td>4.500000</td>\n",
       "      <td>10.000000</td>\n",
       "      <td>0.038000</td>\n",
       "      <td>0.190000</td>\n",
       "      <td>1.500000</td>\n",
       "      <td>0.600000</td>\n",
       "      <td>0.021000</td>\n",
       "      <td>2.000000</td>\n",
       "    </tr>\n",
       "    <tr>\n",
       "      <th>25%</th>\n",
       "      <td>33.288900</td>\n",
       "      <td>139.853050</td>\n",
       "      <td>12.190000</td>\n",
       "      <td>4.500000</td>\n",
       "      <td>77.000000</td>\n",
       "      <td>0.821000</td>\n",
       "      <td>0.650000</td>\n",
       "      <td>5.500000</td>\n",
       "      <td>2.000000</td>\n",
       "      <td>0.058000</td>\n",
       "      <td>19.000000</td>\n",
       "    </tr>\n",
       "    <tr>\n",
       "      <th>50%</th>\n",
       "      <td>35.722500</td>\n",
       "      <td>141.061100</td>\n",
       "      <td>37.550000</td>\n",
       "      <td>4.600000</td>\n",
       "      <td>110.000000</td>\n",
       "      <td>1.428000</td>\n",
       "      <td>0.790000</td>\n",
       "      <td>6.400000</td>\n",
       "      <td>4.900000</td>\n",
       "      <td>0.079000</td>\n",
       "      <td>38.000000</td>\n",
       "    </tr>\n",
       "    <tr>\n",
       "      <th>75%</th>\n",
       "      <td>37.223250</td>\n",
       "      <td>141.656800</td>\n",
       "      <td>57.040000</td>\n",
       "      <td>4.800000</td>\n",
       "      <td>127.000000</td>\n",
       "      <td>2.099500</td>\n",
       "      <td>0.940000</td>\n",
       "      <td>7.135000</td>\n",
       "      <td>6.361000</td>\n",
       "      <td>0.113000</td>\n",
       "      <td>74.000000</td>\n",
       "    </tr>\n",
       "    <tr>\n",
       "      <th>max</th>\n",
       "      <td>42.016600</td>\n",
       "      <td>142.030800</td>\n",
       "      <td>545.000000</td>\n",
       "      <td>7.300000</td>\n",
       "      <td>254.000000</td>\n",
       "      <td>19.725000</td>\n",
       "      <td>1.510000</td>\n",
       "      <td>12.300000</td>\n",
       "      <td>13.300000</td>\n",
       "      <td>0.558000</td>\n",
       "      <td>761.000000</td>\n",
       "    </tr>\n",
       "  </tbody>\n",
       "</table>\n",
       "</div>"
      ],
      "text/plain": [
       "          latitude    longitude        depth          mag          gap  \\\n",
       "count  1927.000000  1927.000000  1927.000000  1927.000000  1927.000000   \n",
       "mean     35.424921   139.748156    51.375858     4.755734   101.642449   \n",
       "std       2.476123     3.174032    65.086746     0.341895    36.803135   \n",
       "min      30.928100   130.279800     1.610000     4.500000    10.000000   \n",
       "25%      33.288900   139.853050    12.190000     4.500000    77.000000   \n",
       "50%      35.722500   141.061100    37.550000     4.600000   110.000000   \n",
       "75%      37.223250   141.656800    57.040000     4.800000   127.000000   \n",
       "max      42.016600   142.030800   545.000000     7.300000   254.000000   \n",
       "\n",
       "              dmin          rms  horizontalError   depthError     magError  \\\n",
       "count  1927.000000  1927.000000      1927.000000  1927.000000  1927.000000   \n",
       "mean      1.532638     0.806051         6.308651     4.713290     0.092955   \n",
       "std       0.953505     0.226651         1.535590     2.296327     0.053823   \n",
       "min       0.038000     0.190000         1.500000     0.600000     0.021000   \n",
       "25%       0.821000     0.650000         5.500000     2.000000     0.058000   \n",
       "50%       1.428000     0.790000         6.400000     4.900000     0.079000   \n",
       "75%       2.099500     0.940000         7.135000     6.361000     0.113000   \n",
       "max      19.725000     1.510000        12.300000    13.300000     0.558000   \n",
       "\n",
       "            magNst  \n",
       "count  1927.000000  \n",
       "mean     68.322361  \n",
       "std      83.541081  \n",
       "min       2.000000  \n",
       "25%      19.000000  \n",
       "50%      38.000000  \n",
       "75%      74.000000  \n",
       "max     761.000000  "
      ]
     },
     "execution_count": 85,
     "metadata": {},
     "output_type": "execute_result"
    }
   ],
   "source": [
    "df.describe()"
   ]
  },
  {
   "cell_type": "code",
   "execution_count": 86,
   "id": "9bfd0f16",
   "metadata": {},
   "outputs": [
    {
     "data": {
      "text/plain": [
       "Index(['time', 'latitude', 'longitude', 'depth', 'mag', 'magType', 'nst',\n",
       "       'gap', 'dmin', 'rms', 'net', 'id', 'updated', 'place', 'type',\n",
       "       'horizontalError', 'depthError', 'magError', 'magNst', 'status',\n",
       "       'locationSource', 'magSource'],\n",
       "      dtype='object')"
      ]
     },
     "execution_count": 86,
     "metadata": {},
     "output_type": "execute_result"
    }
   ],
   "source": [
    "raw_data.columns"
   ]
  },
  {
   "cell_type": "code",
   "execution_count": 87,
   "id": "5c41c17c",
   "metadata": {},
   "outputs": [
    {
     "data": {
      "text/plain": [
       "4.5    563\n",
       "4.6    473\n",
       "4.7    246\n",
       "4.8    168\n",
       "4.9    136\n",
       "5.0     71\n",
       "5.2     52\n",
       "5.1     51\n",
       "5.3     42\n",
       "5.4     27\n",
       "5.5     24\n",
       "5.6     16\n",
       "5.7     11\n",
       "5.9     10\n",
       "5.8      9\n",
       "6.0      8\n",
       "6.2      5\n",
       "6.3      5\n",
       "6.1      4\n",
       "7.0      2\n",
       "6.9      1\n",
       "6.4      1\n",
       "7.1      1\n",
       "7.3      1\n",
       "Name: mag, dtype: int64"
      ]
     },
     "execution_count": 87,
     "metadata": {},
     "output_type": "execute_result"
    }
   ],
   "source": [
    "df['mag'].value_counts() "
   ]
  },
  {
   "cell_type": "code",
   "execution_count": 88,
   "id": "cf290927",
   "metadata": {},
   "outputs": [
    {
     "data": {
      "text/plain": [
       "array([41.800000, 58.600000, 71.900000, ..., 9.613000, 36.192000,\n",
       "       32.029000])"
      ]
     },
     "execution_count": 88,
     "metadata": {},
     "output_type": "execute_result"
    }
   ],
   "source": [
    "raw_data['depth'].unique()"
   ]
  },
  {
   "cell_type": "code",
   "execution_count": 89,
   "id": "c26faa4c",
   "metadata": {},
   "outputs": [
    {
     "data": {
      "text/plain": [
       "array(['81 km ENE of Hasaki, Japan', '4 km SSE of Funaishikawa, Japan',\n",
       "       '4 km S of Daigo, Japan', ..., '272 km SSE of Katsuura, Japan',\n",
       "       '139 km S of Shing?, Japan', '100 km SE of Katsuura, Japan'],\n",
       "      dtype=object)"
      ]
     },
     "execution_count": 89,
     "metadata": {},
     "output_type": "execute_result"
    }
   ],
   "source": [
    "raw_data['place'].unique() # prints unique value of the \"NumOfProducts\" column"
   ]
  },
  {
   "cell_type": "code",
   "execution_count": 90,
   "id": "80f8b0d8",
   "metadata": {},
   "outputs": [
    {
     "data": {
      "text/html": [
       "<div>\n",
       "<style scoped>\n",
       "    .dataframe tbody tr th:only-of-type {\n",
       "        vertical-align: middle;\n",
       "    }\n",
       "\n",
       "    .dataframe tbody tr th {\n",
       "        vertical-align: top;\n",
       "    }\n",
       "\n",
       "    .dataframe thead th {\n",
       "        text-align: right;\n",
       "    }\n",
       "</style>\n",
       "<table border=\"1\" class=\"dataframe\">\n",
       "  <thead>\n",
       "    <tr style=\"text-align: right;\">\n",
       "      <th></th>\n",
       "      <th>time</th>\n",
       "      <th>latitude</th>\n",
       "      <th>longitude</th>\n",
       "      <th>depth</th>\n",
       "      <th>mag</th>\n",
       "      <th>magType</th>\n",
       "      <th>nst</th>\n",
       "      <th>gap</th>\n",
       "      <th>dmin</th>\n",
       "      <th>rms</th>\n",
       "      <th>...</th>\n",
       "      <th>updated</th>\n",
       "      <th>place</th>\n",
       "      <th>type</th>\n",
       "      <th>horizontalError</th>\n",
       "      <th>depthError</th>\n",
       "      <th>magError</th>\n",
       "      <th>magNst</th>\n",
       "      <th>status</th>\n",
       "      <th>locationSource</th>\n",
       "      <th>magSource</th>\n",
       "    </tr>\n",
       "  </thead>\n",
       "  <tbody>\n",
       "  </tbody>\n",
       "</table>\n",
       "<p>0 rows × 22 columns</p>\n",
       "</div>"
      ],
      "text/plain": [
       "Empty DataFrame\n",
       "Columns: [time, latitude, longitude, depth, mag, magType, nst, gap, dmin, rms, net, id, updated, place, type, horizontalError, depthError, magError, magNst, status, locationSource, magSource]\n",
       "Index: []\n",
       "\n",
       "[0 rows x 22 columns]"
      ]
     },
     "execution_count": 90,
     "metadata": {},
     "output_type": "execute_result"
    }
   ],
   "source": [
    "duplicate = raw_data[raw_data.duplicated()] #identify duplicate rows\n",
    "duplicate #view duplicate rows"
   ]
  },
  {
   "cell_type": "code",
   "execution_count": 91,
   "id": "9135d3e4",
   "metadata": {},
   "outputs": [
    {
     "data": {
      "text/plain": [
       "time               0\n",
       "latitude           0\n",
       "longitude          0\n",
       "depth              0\n",
       "mag                0\n",
       "magType            0\n",
       "gap                0\n",
       "dmin               0\n",
       "rms                0\n",
       "net                0\n",
       "id                 0\n",
       "updated            0\n",
       "place              0\n",
       "type               0\n",
       "horizontalError    0\n",
       "depthError         0\n",
       "magError           0\n",
       "magNst             0\n",
       "status             0\n",
       "locationSource     0\n",
       "magSource          0\n",
       "dtype: int64"
      ]
     },
     "execution_count": 91,
     "metadata": {},
     "output_type": "execute_result"
    }
   ],
   "source": [
    "# Checking for null values per features\n",
    "df.isnull().sum()"
   ]
  },
  {
   "cell_type": "code",
   "execution_count": 92,
   "id": "d9d7dd96",
   "metadata": {},
   "outputs": [
    {
     "data": {
      "text/plain": [
       "Index(['time', 'latitude', 'longitude', 'depth', 'mag', 'magType', 'gap',\n",
       "       'dmin', 'rms', 'net', 'id', 'updated', 'place', 'type',\n",
       "       'horizontalError', 'depthError', 'magError', 'magNst', 'status',\n",
       "       'locationSource', 'magSource'],\n",
       "      dtype='object')"
      ]
     },
     "execution_count": 92,
     "metadata": {},
     "output_type": "execute_result"
    }
   ],
   "source": [
    "df.columns"
   ]
  },
  {
   "cell_type": "code",
   "execution_count": 93,
   "id": "f79466b7",
   "metadata": {
    "scrolled": true
   },
   "outputs": [
    {
     "name": "stdout",
     "output_type": "stream",
     "text": [
      "(1927, 19)\n"
     ]
    },
    {
     "data": {
      "text/html": [
       "<div>\n",
       "<style scoped>\n",
       "    .dataframe tbody tr th:only-of-type {\n",
       "        vertical-align: middle;\n",
       "    }\n",
       "\n",
       "    .dataframe tbody tr th {\n",
       "        vertical-align: top;\n",
       "    }\n",
       "\n",
       "    .dataframe thead th {\n",
       "        text-align: right;\n",
       "    }\n",
       "</style>\n",
       "<table border=\"1\" class=\"dataframe\">\n",
       "  <thead>\n",
       "    <tr style=\"text-align: right;\">\n",
       "      <th></th>\n",
       "      <th>time</th>\n",
       "      <th>latitude</th>\n",
       "      <th>longitude</th>\n",
       "      <th>depth</th>\n",
       "      <th>mag</th>\n",
       "      <th>magType</th>\n",
       "      <th>gap</th>\n",
       "      <th>dmin</th>\n",
       "      <th>rms</th>\n",
       "      <th>net</th>\n",
       "      <th>id</th>\n",
       "      <th>updated</th>\n",
       "      <th>place</th>\n",
       "      <th>type</th>\n",
       "      <th>magError</th>\n",
       "      <th>magNst</th>\n",
       "      <th>status</th>\n",
       "      <th>locationSource</th>\n",
       "      <th>magSource</th>\n",
       "    </tr>\n",
       "  </thead>\n",
       "  <tbody>\n",
       "    <tr>\n",
       "      <th>0</th>\n",
       "      <td>2013-08-01T11:13:27.290Z</td>\n",
       "      <td>35.2208</td>\n",
       "      <td>141.2459</td>\n",
       "      <td>34.44</td>\n",
       "      <td>4.5</td>\n",
       "      <td>mb</td>\n",
       "      <td>121.0</td>\n",
       "      <td>2.412</td>\n",
       "      <td>0.75</td>\n",
       "      <td>us</td>\n",
       "      <td>usb000it7b</td>\n",
       "      <td>2013-09-25T17:45:49.000Z</td>\n",
       "      <td>68 km SSE of Hasaki, Japan</td>\n",
       "      <td>earthquake</td>\n",
       "      <td>0.313</td>\n",
       "      <td>69.178416</td>\n",
       "      <td>reviewed</td>\n",
       "      <td>us</td>\n",
       "      <td>us</td>\n",
       "    </tr>\n",
       "    <tr>\n",
       "      <th>1</th>\n",
       "      <td>2013-08-03T00:56:15.280Z</td>\n",
       "      <td>34.5452</td>\n",
       "      <td>137.5490</td>\n",
       "      <td>33.12</td>\n",
       "      <td>5.1</td>\n",
       "      <td>mb</td>\n",
       "      <td>73.0</td>\n",
       "      <td>0.909</td>\n",
       "      <td>0.60</td>\n",
       "      <td>us</td>\n",
       "      <td>usb000iul2</td>\n",
       "      <td>2022-07-25T19:34:58.463Z</td>\n",
       "      <td>24 km SW of Hamamatsu, Japan</td>\n",
       "      <td>earthquake</td>\n",
       "      <td>0.039</td>\n",
       "      <td>69.178416</td>\n",
       "      <td>reviewed</td>\n",
       "      <td>us</td>\n",
       "      <td>us</td>\n",
       "    </tr>\n",
       "    <tr>\n",
       "      <th>2</th>\n",
       "      <td>2013-08-04T03:28:50.810Z</td>\n",
       "      <td>38.2133</td>\n",
       "      <td>141.8621</td>\n",
       "      <td>56.00</td>\n",
       "      <td>5.8</td>\n",
       "      <td>mww</td>\n",
       "      <td>18.0</td>\n",
       "      <td>3.355</td>\n",
       "      <td>0.67</td>\n",
       "      <td>us</td>\n",
       "      <td>usb000iv4w</td>\n",
       "      <td>2022-07-25T19:40:11.276Z</td>\n",
       "      <td>54 km ESE of Ishinomaki, Japan</td>\n",
       "      <td>earthquake</td>\n",
       "      <td>0.079</td>\n",
       "      <td>69.178416</td>\n",
       "      <td>reviewed</td>\n",
       "      <td>us</td>\n",
       "      <td>us</td>\n",
       "    </tr>\n",
       "    <tr>\n",
       "      <th>3</th>\n",
       "      <td>2013-08-07T10:56:07.220Z</td>\n",
       "      <td>33.8869</td>\n",
       "      <td>141.6805</td>\n",
       "      <td>12.01</td>\n",
       "      <td>4.5</td>\n",
       "      <td>mb</td>\n",
       "      <td>119.0</td>\n",
       "      <td>1.739</td>\n",
       "      <td>0.64</td>\n",
       "      <td>us</td>\n",
       "      <td>usb000ixci</td>\n",
       "      <td>2013-10-12T21:32:31.000Z</td>\n",
       "      <td>187 km SE of Katsuura, Japan</td>\n",
       "      <td>earthquake</td>\n",
       "      <td>0.090</td>\n",
       "      <td>69.178416</td>\n",
       "      <td>reviewed</td>\n",
       "      <td>us</td>\n",
       "      <td>us</td>\n",
       "    </tr>\n",
       "    <tr>\n",
       "      <th>4</th>\n",
       "      <td>2013-08-09T18:34:16.020Z</td>\n",
       "      <td>32.0400</td>\n",
       "      <td>141.3012</td>\n",
       "      <td>52.73</td>\n",
       "      <td>4.8</td>\n",
       "      <td>mb</td>\n",
       "      <td>92.0</td>\n",
       "      <td>1.651</td>\n",
       "      <td>0.98</td>\n",
       "      <td>us</td>\n",
       "      <td>usb000izss</td>\n",
       "      <td>2013-10-12T21:32:33.000Z</td>\n",
       "      <td>Izu Islands, Japan region</td>\n",
       "      <td>earthquake</td>\n",
       "      <td>0.075</td>\n",
       "      <td>69.178416</td>\n",
       "      <td>reviewed</td>\n",
       "      <td>us</td>\n",
       "      <td>us</td>\n",
       "    </tr>\n",
       "  </tbody>\n",
       "</table>\n",
       "</div>"
      ],
      "text/plain": [
       "                       time  latitude  longitude  depth  mag magType    gap  \\\n",
       "0  2013-08-01T11:13:27.290Z   35.2208   141.2459  34.44  4.5      mb  121.0   \n",
       "1  2013-08-03T00:56:15.280Z   34.5452   137.5490  33.12  5.1      mb   73.0   \n",
       "2  2013-08-04T03:28:50.810Z   38.2133   141.8621  56.00  5.8     mww   18.0   \n",
       "3  2013-08-07T10:56:07.220Z   33.8869   141.6805  12.01  4.5      mb  119.0   \n",
       "4  2013-08-09T18:34:16.020Z   32.0400   141.3012  52.73  4.8      mb   92.0   \n",
       "\n",
       "    dmin   rms net          id                   updated  \\\n",
       "0  2.412  0.75  us  usb000it7b  2013-09-25T17:45:49.000Z   \n",
       "1  0.909  0.60  us  usb000iul2  2022-07-25T19:34:58.463Z   \n",
       "2  3.355  0.67  us  usb000iv4w  2022-07-25T19:40:11.276Z   \n",
       "3  1.739  0.64  us  usb000ixci  2013-10-12T21:32:31.000Z   \n",
       "4  1.651  0.98  us  usb000izss  2013-10-12T21:32:33.000Z   \n",
       "\n",
       "                            place        type  magError     magNst    status  \\\n",
       "0      68 km SSE of Hasaki, Japan  earthquake     0.313  69.178416  reviewed   \n",
       "1    24 km SW of Hamamatsu, Japan  earthquake     0.039  69.178416  reviewed   \n",
       "2  54 km ESE of Ishinomaki, Japan  earthquake     0.079  69.178416  reviewed   \n",
       "3    187 km SE of Katsuura, Japan  earthquake     0.090  69.178416  reviewed   \n",
       "4       Izu Islands, Japan region  earthquake     0.075  69.178416  reviewed   \n",
       "\n",
       "  locationSource magSource  \n",
       "0             us        us  \n",
       "1             us        us  \n",
       "2             us        us  \n",
       "3             us        us  \n",
       "4             us        us  "
      ]
     },
     "execution_count": 93,
     "metadata": {},
     "output_type": "execute_result"
    }
   ],
   "source": [
    "#list the important columns\n",
    "myList = ['time', 'latitude','longitude', 'depth', 'mag', 'magType',\n",
    "          'gap', 'dmin', 'rms', 'net', 'id', 'updated', 'place', 'type', 'magError',\n",
    "         'magNst', 'status', 'locationSource', 'magSource']\n",
    "#create a new dataframe with this list of important columns\n",
    "df2 = df[myList]\n",
    "print(df2.shape)\n",
    "df2.head()"
   ]
  },
  {
   "cell_type": "code",
   "execution_count": 94,
   "id": "2e151238",
   "metadata": {},
   "outputs": [
    {
     "data": {
      "image/png": "[encoded data removed]",
      "text/plain": [
       "<Figure size 800x600 with 1 Axes>"
      ]
     },
     "metadata": {},
     "output_type": "display_data"
    }
   ],
   "source": [
    "# Show the counts of observations in each categorical bin using bars\n",
    "sns.countplot(x = 'mag', data = df2, hue = 'magType'); "
   ]
  },
  {
   "cell_type": "code",
   "execution_count": 95,
   "id": "fcdfd2a3",
   "metadata": {},
   "outputs": [
    {
     "data": {
      "image/png": "[encoded data removed]",
      "text/plain": [
       "<Figure size 800x600 with 1 Axes>"
      ]
     },
     "metadata": {},
     "output_type": "display_data"
    }
   ],
   "source": [
    "sns.countplot(x = 'gap', data = df2, hue = 'magType');"
   ]
  },
  {
   "cell_type": "code",
   "execution_count": 31,
   "id": "28f0883b",
   "metadata": {},
   "outputs": [
    {
     "data": {
      "text/plain": [
       "time                object\n",
       "latitude           float64\n",
       "longitude          float64\n",
       "depth              float64\n",
       "mag                float64\n",
       "magType             object\n",
       "gap                float64\n",
       "dmin               float64\n",
       "rms                float64\n",
       "net                 object\n",
       "id                  object\n",
       "updated             object\n",
       "place               object\n",
       "type                object\n",
       "horizontalError    float64\n",
       "depthError         float64\n",
       "magError           float64\n",
       "magNst             float64\n",
       "status              object\n",
       "locationSource      object\n",
       "magSource           object\n",
       "dtype: object"
      ]
     },
     "execution_count": 31,
     "metadata": {},
     "output_type": "execute_result"
    }
   ],
   "source": [
    "df.dtypes"
   ]
  },
  {
   "cell_type": "code",
   "execution_count": 32,
   "id": "2b465058",
   "metadata": {},
   "outputs": [],
   "source": [
    "df_drop = df.drop(['time','magType','net','id','updated','place','type','status','locationSource','magSource'], axis = 1)"
   ]
  },
  {
   "cell_type": "code",
   "execution_count": 33,
   "id": "1a3b6657",
   "metadata": {},
   "outputs": [],
   "source": [
    "df=df_drop"
   ]
  },
  {
   "cell_type": "code",
   "execution_count": 34,
   "id": "43f06dd4",
   "metadata": {},
   "outputs": [
    {
     "data": {
      "text/plain": [
       "latitude           float64\n",
       "longitude          float64\n",
       "depth              float64\n",
       "mag                float64\n",
       "gap                float64\n",
       "dmin               float64\n",
       "rms                float64\n",
       "horizontalError    float64\n",
       "depthError         float64\n",
       "magError           float64\n",
       "magNst             float64\n",
       "dtype: object"
      ]
     },
     "execution_count": 34,
     "metadata": {},
     "output_type": "execute_result"
    }
   ],
   "source": [
    "df.dtypes"
   ]
  },
  {
   "cell_type": "code",
   "execution_count": 35,
   "id": "e726ee20",
   "metadata": {},
   "outputs": [
    {
     "data": {
      "text/plain": [
       "latitude           float64\n",
       "longitude          float64\n",
       "depth              float64\n",
       "mag                float64\n",
       "gap                float64\n",
       "dmin               float64\n",
       "rms                float64\n",
       "horizontalError    float64\n",
       "depthError         float64\n",
       "magError           float64\n",
       "magNst             float64\n",
       "dtype: object"
      ]
     },
     "execution_count": 35,
     "metadata": {},
     "output_type": "execute_result"
    }
   ],
   "source": [
    "df.dtypes"
   ]
  },
  {
   "cell_type": "code",
   "execution_count": 36,
   "id": "dd6704fd",
   "metadata": {},
   "outputs": [],
   "source": [
    "from sklearn.model_selection import train_test_split"
   ]
  },
  {
   "cell_type": "code",
   "execution_count": 37,
   "id": "3462d086",
   "metadata": {},
   "outputs": [],
   "source": [
    "x = df.drop(['mag'],axis=1)"
   ]
  },
  {
   "cell_type": "code",
   "execution_count": 38,
   "id": "3eb2f929",
   "metadata": {},
   "outputs": [
    {
     "data": {
      "text/plain": [
       "(1927, 10)"
      ]
     },
     "execution_count": 38,
     "metadata": {},
     "output_type": "execute_result"
    }
   ],
   "source": [
    "x.shape"
   ]
  },
  {
   "cell_type": "code",
   "execution_count": 39,
   "id": "fbe1b7ef",
   "metadata": {},
   "outputs": [],
   "source": [
    "y=df['mag']"
   ]
  },
  {
   "cell_type": "code",
   "execution_count": 40,
   "id": "5f7cff71",
   "metadata": {},
   "outputs": [
    {
     "data": {
      "text/plain": [
       "(1927,)"
      ]
     },
     "execution_count": 40,
     "metadata": {},
     "output_type": "execute_result"
    }
   ],
   "source": [
    "y.shape"
   ]
  },
  {
   "cell_type": "code",
   "execution_count": 41,
   "id": "6379d52f",
   "metadata": {},
   "outputs": [],
   "source": [
    "x_train,x_test,y_train,y_test =train_test_split(x,y,test_size=.3,random_state=0)"
   ]
  },
  {
   "cell_type": "code",
   "execution_count": 42,
   "id": "41f38316",
   "metadata": {},
   "outputs": [
    {
     "name": "stdout",
     "output_type": "stream",
     "text": [
      "(1348, 10) (579, 10) (1348,) (579,)\n"
     ]
    }
   ],
   "source": [
    "print(x_train.shape,x_test.shape,y_train.shape,y_test.shape)"
   ]
  },
  {
   "cell_type": "code",
   "execution_count": 43,
   "id": "11ab6ae3",
   "metadata": {},
   "outputs": [],
   "source": [
    "from sklearn.svm import SVR"
   ]
  },
  {
   "cell_type": "code",
   "execution_count": 44,
   "id": "d7563b64",
   "metadata": {},
   "outputs": [],
   "source": [
    "import numpy as np"
   ]
  },
  {
   "cell_type": "code",
   "execution_count": 45,
   "id": "61dfb9bf",
   "metadata": {},
   "outputs": [],
   "source": [
    "from sklearn.metrics import mean_absolute_error, mean_squared_error, r2_score"
   ]
  },
  {
   "cell_type": "code",
   "execution_count": 46,
   "id": "dcad590a",
   "metadata": {},
   "outputs": [],
   "source": [
    "model = SVR().fit(x_train,y_train)\n",
    "\n",
    "ytrain_predict=model.predict(x_train)\n",
    "ytest_predict=model.predict(x_test)"
   ]
  },
  {
   "cell_type": "code",
   "execution_count": 47,
   "id": "39d0a8d7",
   "metadata": {},
   "outputs": [
    {
     "name": "stdout",
     "output_type": "stream",
     "text": [
      "Default Hyper parameter:-\n",
      "\n",
      "SVM training data default hyperparameter R-squared, R2=0.53\n",
      "SVM test data default hyperparameter R-squared, R2=0.54 \n",
      "\n",
      "SVM training data default hyperparameter Mean-Absolute-Error, MAE= 0.16\n",
      "SVM test data default hyperparameter Mean-Absolute-Error, MAE= 0.14 \n",
      "\n",
      "SVM training data default hyperparameter Mean-Squared-Error, MSE= 0.06\n",
      "SVM test data default hyperparameter Mean-Squared-Error, MSE= 0.04 \n",
      "\n",
      "SVM training data default hyperparameter Root-Mean-Squared-Error, RMSE= 0.24\n",
      "SVMt test data default hyperparameter Root-Mean-Squared-Error, RMSE= 0.21\n"
     ]
    }
   ],
   "source": [
    "print('Default Hyper parameter:-\\n')\n",
    "print('SVM training data default hyperparameter R-squared, R2=%.2f'% model.score(x_train,y_train))\n",
    "print('SVM test data default hyperparameter R-squared, R2=%.2f \\n'% model.score(x_test,y_test))\n",
    "print('SVM training data default hyperparameter Mean-Absolute-Error, MAE= %.2f'% mean_absolute_error(y_train,ytrain_predict))\n",
    "print('SVM test data default hyperparameter Mean-Absolute-Error, MAE= %.2f \\n'% mean_absolute_error(y_test,ytest_predict))\n",
    "print('SVM training data default hyperparameter Mean-Squared-Error, MSE= %.2f'% mean_squared_error(y_train,ytrain_predict))\n",
    "print('SVM test data default hyperparameter Mean-Squared-Error, MSE= %.2f \\n'% mean_squared_error(y_test,ytest_predict))\n",
    "print('SVM training data default hyperparameter Root-Mean-Squared-Error, RMSE= %.2f'% np.sqrt(mean_squared_error(y_train,ytrain_predict)))\n",
    "print('SVMt test data default hyperparameter Root-Mean-Squared-Error, RMSE= %.2f'% np.sqrt(mean_squared_error(y_test,ytest_predict)))"
   ]
  },
  {
   "cell_type": "code",
   "execution_count": 48,
   "id": "e2ef474c",
   "metadata": {},
   "outputs": [],
   "source": [
    "import pandas as pd\n",
    "import numpy as np\n",
    "from sklearn import preprocessing\n",
    "from sklearn.model_selection import GridSearchCV, RandomizedSearchCV \n",
    "from sklearn.svm import SVR \n",
    "from sklearn.metrics import make_scorer, roc_auc_score\n",
    "from scipy import stats"
   ]
  },
  {
   "cell_type": "code",
   "execution_count": 49,
   "id": "15a367ce",
   "metadata": {},
   "outputs": [],
   "source": [
    "mdl=SVR()"
   ]
  },
  {
   "cell_type": "code",
   "execution_count": 50,
   "id": "8e690851",
   "metadata": {},
   "outputs": [
    {
     "data": {
      "text/plain": [
       "RandomizedSearchCV(cv=3, estimator=SVR(), n_iter=20, n_jobs=4,\n",
       "                   param_distributions={'C': <scipy.stats._distn_infrastructure.rv_continuous_frozen object at 0x000002DE32D74F70>,\n",
       "                                        'gamma': <scipy.stats._distn_infrastructure.rv_continuous_frozen object at 0x000002DE32DA6550>},\n",
       "                   random_state=30)"
      ]
     },
     "execution_count": 50,
     "metadata": {},
     "output_type": "execute_result"
    }
   ],
   "source": [
    "rand_list = {\n",
    "              \"C\": stats.uniform(2, 10),\n",
    "             \"gamma\": stats.uniform(0.1, 1)}\n",
    "rand_search = RandomizedSearchCV(mdl, param_distributions = rand_list, n_iter = 20, n_jobs = 4, cv = 3, random_state = 30) \n",
    "rand_search.fit(x, y) "
   ]
  },
  {
   "cell_type": "code",
   "execution_count": 51,
   "id": "b72083a1",
   "metadata": {},
   "outputs": [
    {
     "data": {
      "text/plain": [
       "{'mean_fit_time': array([0.12103343, 0.11302463, 0.11669437, 0.11168838, 0.11836712,\n",
       "        0.12136539, 0.12336127, 0.1086901 , 0.12569269, 0.11335889,\n",
       "        0.12369283, 0.11336287, 0.11436288, 0.11836425, 0.12135681,\n",
       "        0.11769565, 0.11936768, 0.12136308, 0.1230282 , 0.11569492]),\n",
       " 'std_fit_time': array([0.00374406, 0.00589136, 0.00543688, 0.00660145, 0.00262543,\n",
       "        0.00047402, 0.0018852 , 0.00531443, 0.0026231 , 0.00736461,\n",
       "        0.00124734, 0.00309214, 0.00655441, 0.00419677, 0.00368299,\n",
       "        0.00386584, 0.00249422, 0.00418956, 0.00163346, 0.00449849]),\n",
       " 'mean_score_time': array([0.09101439, 0.08402212, 0.09102376, 0.0850184 , 0.08868567,\n",
       "        0.09067965, 0.0903465 , 0.08101757, 0.09202043, 0.08535218,\n",
       "        0.0946877 , 0.08167799, 0.08801579, 0.08868527, 0.08835284,\n",
       "        0.08735426, 0.09035126, 0.09035063, 0.09102281, 0.08769313]),\n",
       " 'std_score_time': array([0.00571367, 0.00407839, 0.00454162, 0.00454713, 0.0033987 ,\n",
       "        0.00330347, 0.00286475, 0.00326575, 0.00326663, 0.00449853,\n",
       "        0.00449772, 0.0020503 , 0.00282434, 0.00249407, 0.0023573 ,\n",
       "        0.0026169 , 0.00250099, 0.00329911, 0.00293893, 0.00249575]),\n",
       " 'param_C': masked_array(data=[8.44143536068335, 8.630479053356686,\n",
       "                    11.626078136743187, 11.917509922936077,\n",
       "                    7.856942685216577, 3.3623432201904695,\n",
       "                    7.181763468258454, 11.338501433185797,\n",
       "                    3.9577125677002503, 4.351804976169889,\n",
       "                    8.29099830827202, 8.883443830672038, 11.02513843248535,\n",
       "                    7.556125638061095, 2.2662436477311436,\n",
       "                    10.347150934934147, 7.153821122409081,\n",
       "                    5.861520884568473, 5.3524207966620505,\n",
       "                    5.1613338190825395],\n",
       "              mask=[False, False, False, False, False, False, False, False,\n",
       "                    False, False, False, False, False, False, False, False,\n",
       "                    False, False, False, False],\n",
       "        fill_value='?',\n",
       "             dtype=object),\n",
       " 'param_gamma': masked_array(data=[0.4807484896351165, 0.2636507261027533,\n",
       "                    0.44666184037976564, 0.3350578956056456,\n",
       "                    0.5066901016252007, 0.6441362876381798,\n",
       "                    0.8668551062985054, 0.1897033827859275,\n",
       "                    1.0941936842973616, 0.338986371942651,\n",
       "                    0.8349525766431395, 0.1311307484176272,\n",
       "                    0.38643532791235424, 0.4764202445295431,\n",
       "                    0.5941491215472047, 0.4669873300102526,\n",
       "                    0.5723791254252798, 0.8441370044402956,\n",
       "                    0.6954382882010286, 0.4462504239281453],\n",
       "              mask=[False, False, False, False, False, False, False, False,\n",
       "                    False, False, False, False, False, False, False, False,\n",
       "                    False, False, False, False],\n",
       "        fill_value='?',\n",
       "             dtype=object),\n",
       " 'params': [{'C': 8.44143536068335, 'gamma': 0.4807484896351165},\n",
       "  {'C': 8.630479053356686, 'gamma': 0.2636507261027533},\n",
       "  {'C': 11.626078136743187, 'gamma': 0.44666184037976564},\n",
       "  {'C': 11.917509922936077, 'gamma': 0.3350578956056456},\n",
       "  {'C': 7.856942685216577, 'gamma': 0.5066901016252007},\n",
       "  {'C': 3.3623432201904695, 'gamma': 0.6441362876381798},\n",
       "  {'C': 7.181763468258454, 'gamma': 0.8668551062985054},\n",
       "  {'C': 11.338501433185797, 'gamma': 0.1897033827859275},\n",
       "  {'C': 3.9577125677002503, 'gamma': 1.0941936842973616},\n",
       "  {'C': 4.351804976169889, 'gamma': 0.338986371942651},\n",
       "  {'C': 8.29099830827202, 'gamma': 0.8349525766431395},\n",
       "  {'C': 8.883443830672038, 'gamma': 0.1311307484176272},\n",
       "  {'C': 11.02513843248535, 'gamma': 0.38643532791235424},\n",
       "  {'C': 7.556125638061095, 'gamma': 0.4764202445295431},\n",
       "  {'C': 2.2662436477311436, 'gamma': 0.5941491215472047},\n",
       "  {'C': 10.347150934934147, 'gamma': 0.4669873300102526},\n",
       "  {'C': 7.153821122409081, 'gamma': 0.5723791254252798},\n",
       "  {'C': 5.861520884568473, 'gamma': 0.8441370044402956},\n",
       "  {'C': 5.3524207966620505, 'gamma': 0.6954382882010286},\n",
       "  {'C': 5.1613338190825395, 'gamma': 0.4462504239281453}],\n",
       " 'split0_test_score': array([-0.03127174, -0.02922095, -0.03117914, -0.03049263, -0.03132539,\n",
       "        -0.0314957 , -0.03160163, -0.02535432, -0.03164055, -0.03053466,\n",
       "        -0.03159532, -0.01551473, -0.03091218, -0.03126277, -0.03132434,\n",
       "        -0.03123815, -0.03142738, -0.03159778, -0.03153187, -0.03117796]),\n",
       " 'split1_test_score': array([-0.02095152, -0.0183094 , -0.02079106, -0.01988897, -0.02104527,\n",
       "        -0.02138586, -0.02161719, -0.01352958, -0.02170791, -0.01994086,\n",
       "        -0.02159843, -0.00094597, -0.02041222, -0.02093424, -0.02118376,\n",
       "        -0.02089261, -0.02124152, -0.02160406, -0.02146515, -0.02078872]),\n",
       " 'split2_test_score': array([-0.00170283, -0.00061117, -0.00164389, -0.00127561, -0.00173876,\n",
       "        -0.00185138, -0.00191497,  0.00143585, -0.00193171, -0.00129604,\n",
       "        -0.0019101 ,  0.00689557, -0.00149285, -0.00169599, -0.00182184,\n",
       "        -0.00168084, -0.00180527, -0.0019116 , -0.00187417, -0.00164307]),\n",
       " 'mean_test_score': array([-0.01797536, -0.01604717, -0.01787136, -0.01721907, -0.01803647,\n",
       "        -0.01824431, -0.01837793, -0.01248268, -0.01842672, -0.01725719,\n",
       "        -0.01836795, -0.00318838, -0.01760575, -0.01796433, -0.01810998,\n",
       "        -0.0179372 , -0.01815806, -0.01837115, -0.0182904 , -0.01786991]),\n",
       " 'std_test_score': array([0.01225352, 0.01178893, 0.01223319, 0.01207628, 0.01226463,\n",
       "        0.01230443, 0.01233407, 0.01096207, 0.01234851, 0.01208651,\n",
       "        0.01233234, 0.00928535, 0.01217323, 0.01225191, 0.01223889,\n",
       "        0.01224634, 0.01228815, 0.01233305, 0.01231406, 0.01223294]),\n",
       " 'rank_test_score': array([11,  3,  8,  4, 12, 15, 19,  2, 20,  5, 17,  1,  6, 10, 13,  9, 14,\n",
       "        18, 16,  7])}"
      ]
     },
     "execution_count": 51,
     "metadata": {},
     "output_type": "execute_result"
    }
   ],
   "source": [
    "rand_search.cv_results_"
   ]
  },
  {
   "cell_type": "code",
   "execution_count": 52,
   "id": "0995cd8f",
   "metadata": {},
   "outputs": [],
   "source": [
    "ytrain_predict=rand_search.predict(x_train)\n",
    "ytest_predict=rand_search.predict(x_test)"
   ]
  },
  {
   "cell_type": "code",
   "execution_count": 53,
   "id": "61470631",
   "metadata": {},
   "outputs": [
    {
     "name": "stdout",
     "output_type": "stream",
     "text": [
      "randomizedCV:-\n",
      "\n",
      "SVM training data randomizedCV R-squared, R2=0.93\n",
      "SVM test data randomizedCV R-squared, R2=0.90 \n",
      "\n",
      "SVM training data randomizedCV Mean-Absolute-Error, MAE= 0.09\n",
      "SVM test data randomizedCV Mean-Absolute-Error, MAE= 0.09 \n",
      "\n",
      "SVM training data randomizedCV Mean-Squared-Error, MSE= 0.01\n",
      "SVM test data randomizedCV Mean-Squared-Error, MSE= 0.01 \n",
      "\n",
      "SVM training data randomizedCV Root-Mean-Squared-Error, RMSE= 0.09\n",
      "SVMt test data randomizedCV Root-Mean-Squared-Error, RMSE= 0.09\n"
     ]
    }
   ],
   "source": [
    "print('randomizedCV:-\\n')\n",
    "print('SVM training data randomizedCV R-squared, R2=%.2f'% rand_search.score(x_train,y_train))\n",
    "print('SVM test data randomizedCV R-squared, R2=%.2f \\n'% rand_search.score(x_test,y_test))\n",
    "print('SVM training data randomizedCV Mean-Absolute-Error, MAE= %.2f'% mean_absolute_error(y_train,ytrain_predict))\n",
    "print('SVM test data randomizedCV Mean-Absolute-Error, MAE= %.2f \\n'% mean_absolute_error(y_test,ytest_predict))\n",
    "print('SVM training data randomizedCV Mean-Squared-Error, MSE= %.2f'% mean_squared_error(y_train,ytrain_predict))\n",
    "print('SVM test data randomizedCV Mean-Squared-Error, MSE= %.2f \\n'% mean_squared_error(y_test,ytest_predict))\n",
    "print('SVM training data randomizedCV Root-Mean-Squared-Error, RMSE= %.2f'% np.sqrt(mean_squared_error(y_train,ytrain_predict)))\n",
    "print('SVMt test data randomizedCV Root-Mean-Squared-Error, RMSE= %.2f'% np.sqrt(mean_squared_error(y_test,ytest_predict)))\n"
   ]
  },
  {
   "cell_type": "code",
   "execution_count": null,
   "id": "a26a914f",
   "metadata": {},
   "outputs": [],
   "source": []
  },
  {
   "cell_type": "code",
   "execution_count": 54,
   "id": "9a3062aa",
   "metadata": {},
   "outputs": [
    {
     "data": {
      "text/plain": [
       "{'mean_fit_time': array([0.10902095, 0.11636043, 0.11102605, 0.11602656, 0.11302392,\n",
       "        0.11302861, 0.1156985 , 0.12269465, 0.12369696, 0.12336079,\n",
       "        0.1066908 , 0.11268918, 0.12103097, 0.12469141, 0.12203344,\n",
       "        0.10435239, 0.11202359, 0.11836362, 0.1216929 , 0.1236976 ]),\n",
       " 'std_fit_time': array([0.00294592, 0.00309212, 0.00408121, 0.0074842 , 0.00725728,\n",
       "        0.00748014, 0.00309455, 0.00464358, 0.00124979, 0.0040268 ,\n",
       "        0.00369149, 0.00498684, 0.0016282 , 0.00248255, 0.00244649,\n",
       "        0.00170471, 0.00697931, 0.0026227 , 0.00339985, 0.00385624]),\n",
       " 'mean_score_time': array([0.08335257, 0.08768113, 0.08234795, 0.08368476, 0.08835475,\n",
       "        0.08001343, 0.08635004, 0.09102972, 0.09235986, 0.09568779,\n",
       "        0.08101749, 0.08402189, 0.08834227, 0.09501648, 0.09535154,\n",
       "        0.07901875, 0.08568843, 0.09235088, 0.09335987, 0.09302425]),\n",
       " 'std_score_time': array([0.00498858, 0.00665592, 0.00205801, 0.00249608, 0.00573629,\n",
       "        0.00215851, 0.00693953, 0.003264  , 0.00235505, 0.00205414,\n",
       "        0.00082154, 0.00374405, 0.00249434, 0.00697448, 0.00464076,\n",
       "        0.0024499 , 0.00248984, 0.00543946, 0.00612943, 0.00282587]),\n",
       " 'param_C': masked_array(data=[2, 2, 2, 2, 2, 4, 4, 4, 4, 4, 6, 6, 6, 6, 6, 8, 8, 8,\n",
       "                    8, 8],\n",
       "              mask=[False, False, False, False, False, False, False, False,\n",
       "                    False, False, False, False, False, False, False, False,\n",
       "                    False, False, False, False],\n",
       "        fill_value='?',\n",
       "             dtype=object),\n",
       " 'param_gamma': masked_array(data=[0.1, 0.30000000000000004, 0.5000000000000001,\n",
       "                    0.7000000000000001, 0.9000000000000001, 0.1,\n",
       "                    0.30000000000000004, 0.5000000000000001,\n",
       "                    0.7000000000000001, 0.9000000000000001, 0.1,\n",
       "                    0.30000000000000004, 0.5000000000000001,\n",
       "                    0.7000000000000001, 0.9000000000000001, 0.1,\n",
       "                    0.30000000000000004, 0.5000000000000001,\n",
       "                    0.7000000000000001, 0.9000000000000001],\n",
       "              mask=[False, False, False, False, False, False, False, False,\n",
       "                    False, False, False, False, False, False, False, False,\n",
       "                    False, False, False, False],\n",
       "        fill_value='?',\n",
       "             dtype=object),\n",
       " 'params': [{'C': 2, 'gamma': 0.1},\n",
       "  {'C': 2, 'gamma': 0.30000000000000004},\n",
       "  {'C': 2, 'gamma': 0.5000000000000001},\n",
       "  {'C': 2, 'gamma': 0.7000000000000001},\n",
       "  {'C': 2, 'gamma': 0.9000000000000001},\n",
       "  {'C': 4, 'gamma': 0.1},\n",
       "  {'C': 4, 'gamma': 0.30000000000000004},\n",
       "  {'C': 4, 'gamma': 0.5000000000000001},\n",
       "  {'C': 4, 'gamma': 0.7000000000000001},\n",
       "  {'C': 4, 'gamma': 0.9000000000000001},\n",
       "  {'C': 6, 'gamma': 0.1},\n",
       "  {'C': 6, 'gamma': 0.30000000000000004},\n",
       "  {'C': 6, 'gamma': 0.5000000000000001},\n",
       "  {'C': 6, 'gamma': 0.7000000000000001},\n",
       "  {'C': 6, 'gamma': 0.9000000000000001},\n",
       "  {'C': 8, 'gamma': 0.1},\n",
       "  {'C': 8, 'gamma': 0.30000000000000004},\n",
       "  {'C': 8, 'gamma': 0.5000000000000001},\n",
       "  {'C': 8, 'gamma': 0.7000000000000001},\n",
       "  {'C': 8, 'gamma': 0.9000000000000001}],\n",
       " 'split0_test_score': array([-0.00104872, -0.02933516, -0.03060337, -0.03080711, -0.03086712,\n",
       "        -0.00170642, -0.03001391, -0.0313138 , -0.03153479, -0.03160851,\n",
       "        -0.00170642, -0.03001391, -0.0313138 , -0.03153479, -0.03160851,\n",
       "        -0.00170642, -0.03001391, -0.0313138 , -0.03153479, -0.03160851]),\n",
       " 'split1_test_score': array([ 0.01675087, -0.01865686, -0.02036906, -0.02080955, -0.02096162,\n",
       "         0.01596687, -0.01930797, -0.02102292, -0.02147139, -0.02163461,\n",
       "         0.01596687, -0.01930797, -0.02102292, -0.02147139, -0.02163461,\n",
       "         0.01596687, -0.01930797, -0.02102292, -0.02147139, -0.02163461]),\n",
       " 'split2_test_score': array([ 0.01470976, -0.00102923, -0.00172117, -0.00185567, -0.00189326,\n",
       "         0.01466525, -0.0010316 , -0.00172998, -0.00187574, -0.00191914,\n",
       "         0.01466525, -0.0010316 , -0.00172998, -0.00187574, -0.00191914,\n",
       "         0.01466525, -0.0010316 , -0.00172998, -0.00187574, -0.00191914]),\n",
       " 'mean_test_score': array([ 0.0101373 , -0.01634042, -0.01756453, -0.01782411, -0.01790733,\n",
       "         0.0096419 , -0.01678449, -0.01802223, -0.01829397, -0.01838742,\n",
       "         0.0096419 , -0.01678449, -0.01802223, -0.01829397, -0.01838742,\n",
       "         0.0096419 , -0.01678449, -0.01802223, -0.01829397, -0.01838742]),\n",
       " 'std_test_score': array([0.00795349, 0.01167136, 0.01195671, 0.01200642, 0.01202408,\n",
       "        0.00804205, 0.01196577, 0.01226251, 0.01231495, 0.0123362 ,\n",
       "        0.00804205, 0.01196577, 0.01226251, 0.01231495, 0.0123362 ,\n",
       "        0.00804205, 0.01196577, 0.01226251, 0.01231495, 0.0123362 ]),\n",
       " 'rank_test_score': array([ 1,  5,  9, 10, 11,  2,  6, 12, 15, 18,  2,  6, 12, 15, 18,  2,  6,\n",
       "        12, 15, 18])}"
      ]
     },
     "execution_count": 54,
     "metadata": {},
     "output_type": "execute_result"
    }
   ],
   "source": [
    "grid_list = {\"C\": np.arange(2, 10, 2),\n",
    "             \"gamma\": np.arange(0.1, 1, 0.2)}\n",
    " \n",
    "grid_search = GridSearchCV(mdl, param_grid = grid_list, n_jobs = 4, cv = 3) \n",
    "grid_search.fit(x, y) \n",
    "grid_search.cv_results_"
   ]
  },
  {
   "cell_type": "code",
   "execution_count": 55,
   "id": "8c698307",
   "metadata": {},
   "outputs": [],
   "source": [
    "ytrain_predict=grid_search.predict(x_train)\n",
    "ytest_predict=grid_search.predict(x_test)"
   ]
  },
  {
   "cell_type": "code",
   "execution_count": 56,
   "id": "b3f4647b",
   "metadata": {},
   "outputs": [
    {
     "name": "stdout",
     "output_type": "stream",
     "text": [
      "GridSearchCV:-\n",
      "\n",
      "SVM training data GridSearchCV R-squared, R2=0.93\n",
      "SVM test data GridSearchCV R-squared, R2=0.90 \n",
      "\n",
      "SVM training data GridSearchCV Mean-Absolute-Error, MAE= 0.09\n",
      "SVM test data GridSearchCV Mean-Absolute-Error, MAE= 0.09 \n",
      "\n",
      "SVM training data GridSearchCV Mean-Squared-Error, MSE= 0.01\n",
      "SVM test data GridSearchCV Mean-Squared-Error, MSE= 0.01 \n",
      "\n",
      "SVM training data GridSearchCV Root-Mean-Squared-Error, RMSE= 0.10\n",
      "SVMt test data GridSearchCV Root-Mean-Squared-Error, RMSE= 0.09\n"
     ]
    }
   ],
   "source": [
    "print('GridSearchCV:-\\n')\n",
    "print('SVM training data GridSearchCV R-squared, R2=%.2f'% grid_search.score(x_train,y_train))\n",
    "print('SVM test data GridSearchCV R-squared, R2=%.2f \\n'% grid_search.score(x_test,y_test))\n",
    "print('SVM training data GridSearchCV Mean-Absolute-Error, MAE= %.2f'% mean_absolute_error(y_train,ytrain_predict))\n",
    "print('SVM test data GridSearchCV Mean-Absolute-Error, MAE= %.2f \\n'% mean_absolute_error(y_test,ytest_predict))\n",
    "print('SVM training data GridSearchCV Mean-Squared-Error, MSE= %.2f'% mean_squared_error(y_train,ytrain_predict))\n",
    "print('SVM test data GridSearchCV Mean-Squared-Error, MSE= %.2f \\n'% mean_squared_error(y_test,ytest_predict))\n",
    "print('SVM training data GridSearchCV Root-Mean-Squared-Error, RMSE= %.2f'% np.sqrt(mean_squared_error(y_train,ytrain_predict)))\n",
    "print('SVMt test data GridSearchCV Root-Mean-Squared-Error, RMSE= %.2f'% np.sqrt(mean_squared_error(y_test,ytest_predict)))"
   ]
  }
 ],
 "metadata": {
  "kernelspec": {
   "display_name": "Python 3 (ipykernel)",
   "language": "python",
   "name": "python3"
  },
  "language_info": {
   "codemirror_mode": {
    "name": "ipython",
    "version": 3
   },
   "file_extension": ".py",
   "mimetype": "text/x-python",
   "name": "python",
   "nbconvert_exporter": "python",
   "pygments_lexer": "ipython3",
   "version": "3.9.13"
  }
 },
 "nbformat": 4,
 "nbformat_minor": 5
}
